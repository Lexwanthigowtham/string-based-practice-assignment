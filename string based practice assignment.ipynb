{
 "cells": [
  {
   "cell_type": "markdown",
   "id": "e7d1d8dc-bb9c-473a-9849-56773a886aa4",
   "metadata": {},
   "source": [
    "# string based problems\n"
   ]
  },
  {
   "cell_type": "code",
   "execution_count": 1,
   "id": "3674fea2-bc8a-4a4a-89a4-178299a89a7c",
   "metadata": {},
   "outputs": [
    {
     "data": {
      "text/plain": [
       "'ecneics atad fo kcats lluf'"
      ]
     },
     "execution_count": 1,
     "metadata": {},
     "output_type": "execute_result"
    }
   ],
   "source": [
    "#1.reverse a string\n",
    "s1= ('full stack of data science')\n",
    "s1[::-1]\n",
    "\n",
    "\n"
   ]
  },
  {
   "cell_type": "code",
   "execution_count": 7,
   "id": "8f5ad416-6fea-4123-8510-1ed8f37167ea",
   "metadata": {},
   "outputs": [
    {
     "name": "stdout",
     "output_type": "stream",
     "text": [
      "yes its a palindrome\n"
     ]
    }
   ],
   "source": [
    "#2.palindome\n",
    "p= ('malayalam')\n",
    "p=(p[::-1]) #ispalindome\n",
    "if p:\n",
    "    print('yes its a palindrome')\n",
    "else:\n",
    "    print('its not a palindrome')\n",
    "          \n",
    "        "
   ]
  },
  {
   "cell_type": "code",
   "execution_count": 8,
   "id": "4afbc6d1-14b5-4f35-920f-ff76a8cd6e51",
   "metadata": {},
   "outputs": [
    {
     "data": {
      "text/plain": [
       "'STAY POSITIVE'"
      ]
     },
     "execution_count": 8,
     "metadata": {},
     "output_type": "execute_result"
    }
   ],
   "source": [
    "#3.uppecase\n",
    "u='stay positive'\n",
    "u.upper()"
   ]
  },
  {
   "cell_type": "code",
   "execution_count": 9,
   "id": "d1f40ae6-a2b0-4c99-8b20-9b717b3f0e94",
   "metadata": {},
   "outputs": [
    {
     "data": {
      "text/plain": [
       "'be brave'"
      ]
     },
     "execution_count": 9,
     "metadata": {},
     "output_type": "execute_result"
    }
   ],
   "source": [
    "#4.lower case\n",
    "l='BE BRAVE'\n",
    "l.lower()"
   ]
  },
  {
   "cell_type": "code",
   "execution_count": 3,
   "id": "06d7808f-5c08-4d97-ab9e-86d30f1a338c",
   "metadata": {},
   "outputs": [
    {
     "name": "stdout",
     "output_type": "stream",
     "text": [
      "3\n"
     ]
    }
   ],
   "source": [
    "#5.count vowels\n",
    "def isVowel(ch):\n",
    "    return ch.upper() in ['A', 'E', 'I', 'O', 'U'] \n",
    "def countVowels(str):\n",
    "    count = 0\n",
    "    for i in range(len(str)):\n",
    "        if isVowel(str[i]):\n",
    "            count += 1\n",
    "    return count\n",
    "str = 'sunshine'\n",
    "print(countVowels(str))\n",
    "  "
   ]
  },
  {
   "cell_type": "code",
   "execution_count": 4,
   "id": "3c0865ac-fdcb-44c8-b1a6-f824a061a777",
   "metadata": {},
   "outputs": [
    {
     "name": "stdout",
     "output_type": "stream",
     "text": [
      "10\n"
     ]
    }
   ],
   "source": [
    "#6.consonants\n",
    "def isConsonant(ch):\n",
    "    ch = ch.upper()\n",
    "  \n",
    "    return not (ch == 'A' or ch == 'E' or \n",
    "                ch == 'I' or ch == 'O' or \n",
    "                ch == 'U') and ord(ch) >= 65 and ord(ch) <= 90\n",
    "  \n",
    "def totalConsonants(string):\n",
    "      \n",
    "    count = 0\n",
    "      \n",
    "    for i in range(len(string)):\n",
    "        if (isConsonant(string[i])):\n",
    "            count += 1\n",
    "              \n",
    "    return count\n",
    "string = \"have a bright vision\"\n",
    "print(totalConsonants(string))\n",
    "  "
   ]
  },
  {
   "cell_type": "code",
   "execution_count": 12,
   "id": "7b28f186-21cf-4b04-b73e-643ed827260c",
   "metadata": {},
   "outputs": [
    {
     "data": {
      "text/plain": [
       "'women empowerment'"
      ]
     },
     "execution_count": 12,
     "metadata": {},
     "output_type": "execute_result"
    }
   ],
   "source": [
    "#7.removing all white spaces\n",
    "s1='                   women empowerment                    '\n",
    "s1.strip()"
   ]
  },
  {
   "cell_type": "code",
   "execution_count": 14,
   "id": "80f257c1-40da-497b-8530-15c4b9298d86",
   "metadata": {},
   "outputs": [
    {
     "name": "stdin",
     "output_type": "stream",
     "text": [
      " Baby bear\n"
     ]
    }
   ],
   "source": [
    "#8length of the string without using len function \n",
    "s=input()"
   ]
  },
  {
   "cell_type": "code",
   "execution_count": 6,
   "id": "63395c78-6b6f-41bc-b87f-46cb8568f5c9",
   "metadata": {},
   "outputs": [
    {
     "name": "stdout",
     "output_type": "stream",
     "text": [
      "1\n",
      "2\n",
      "3\n",
      "4\n",
      "5\n",
      "6\n",
      "7\n",
      "8\n",
      "9\n",
      "10\n",
      "11\n"
     ]
    }
   ],
   "source": [
    "count=0\n",
    "for i in s:\n",
    "    count=count+1\n",
    "    print(count)"
   ]
  },
  {
   "cell_type": "code",
   "execution_count": 6,
   "id": "4af1bc07-782f-4a17-958b-abe65f752ab9",
   "metadata": {},
   "outputs": [
    {
     "name": "stdout",
     "output_type": "stream",
     "text": [
      "yes\n"
     ]
    }
   ],
   "source": [
    "#9 find a specific wod in a string\n",
    "words = 'belief creates the actual fact'\n",
    "\n",
    "if 'belief' in words:\n",
    "    print ('yes')\n",
    "else:\n",
    "    print ('no')"
   ]
  },
  {
   "cell_type": "code",
   "execution_count": 8,
   "id": "635c8718-25ae-4a7b-9a4d-71076742ca34",
   "metadata": {},
   "outputs": [
    {
     "data": {
      "text/plain": [
       "'if we want to shine like a sun, first burn like a sun'"
      ]
     },
     "execution_count": 8,
     "metadata": {},
     "output_type": "execute_result"
    }
   ],
   "source": [
    "#10.replacing a string\n",
    "s2=\"if you want to shine like a sun, first burn like a sun\"\n",
    "s2.replace('you','we')"
   ]
  },
  {
   "cell_type": "code",
   "execution_count": 9,
   "id": "73c6fdb3-4a30-4e3e-9c30-f66631d6107b",
   "metadata": {},
   "outputs": [
    {
     "data": {
      "text/plain": [
       "0"
      ]
     },
     "execution_count": 9,
     "metadata": {},
     "output_type": "execute_result"
    }
   ],
   "source": [
    "#12.first occurance of word\n",
    "s1='baby boy'\n",
    "s1.find('b')"
   ]
  },
  {
   "cell_type": "code",
   "execution_count": 10,
   "id": "dfe56a62-13a1-46b5-8ac5-4a9596381af9",
   "metadata": {},
   "outputs": [
    {
     "data": {
      "text/plain": [
       "10"
      ]
     },
     "execution_count": 10,
     "metadata": {},
     "output_type": "execute_result"
    }
   ],
   "source": [
    "#13.last occuance of a word\n",
    "s2='shiningstar'\n",
    "s2.find('r')"
   ]
  },
  {
   "cell_type": "code",
   "execution_count": 11,
   "id": "55e48acd-6cfa-46c4-8df3-c0b3a36ba3ad",
   "metadata": {},
   "outputs": [
    {
     "data": {
      "text/plain": [
       "['my',\n",
       " 'name',\n",
       " 'is',\n",
       " 'lexwanthi',\n",
       " ',',\n",
       " 'i',\n",
       " 'love',\n",
       " 'painting,',\n",
       " 'my',\n",
       " 'favourite',\n",
       " 'number',\n",
       " 'is',\n",
       " '8']"
      ]
     },
     "execution_count": 11,
     "metadata": {},
     "output_type": "execute_result"
    }
   ],
   "source": [
    "#14.split sting into a list of words\n",
    "l1='my name is lexwanthi , i love painting, my favourite number is 8'\n",
    "l1.split()"
   ]
  },
  {
   "cell_type": "code",
   "execution_count": 12,
   "id": "97e569ea-ed3c-4ae5-8024-c0d996b52950",
   "metadata": {},
   "outputs": [
    {
     "data": {
      "text/plain": [
       "'he who laughs most learns best-john cleese'"
      ]
     },
     "execution_count": 12,
     "metadata": {},
     "output_type": "execute_result"
    }
   ],
   "source": [
    "#15.join list of words into a string\n",
    "quote=['he who laughs most learns best' '-john cleese']\n",
    "s=\",\"\n",
    "s.join(quote)\n"
   ]
  },
  {
   "cell_type": "code",
   "execution_count": 13,
   "id": "037ddb83-c26d-4b29-8220-4e21ad1eddae",
   "metadata": {},
   "outputs": [
    {
     "data": {
      "text/plain": [
       "'be_your_own_kind_of_beautiful'"
      ]
     },
     "execution_count": 13,
     "metadata": {},
     "output_type": "execute_result"
    }
   ],
   "source": [
    "#16.replace white spaces with underscore\n",
    "a='be your own kind of beautiful'\n",
    "a.replace(\" \",\"_\")\n"
   ]
  },
  {
   "cell_type": "code",
   "execution_count": 14,
   "id": "351b3c03-fb5b-48a8-b6d4-b1fe0be93c54",
   "metadata": {},
   "outputs": [
    {
     "name": "stdout",
     "output_type": "stream",
     "text": [
      "its a phrase not a specific word\n"
     ]
    }
   ],
   "source": [
    "#17.starts with a phrase or specific word\n",
    "var='she helped to build the roof'\n",
    "if  var .startswith('she'):\n",
    "    print('its a phrase not a specific word')\n",
    "\n",
    "\n",
    " \n",
    "\n",
    "\n"
   ]
  },
  {
   "cell_type": "code",
   "execution_count": 15,
   "id": "941c80f5-11ad-493f-87c1-7d34b014d2be",
   "metadata": {},
   "outputs": [
    {
     "name": "stdout",
     "output_type": "stream",
     "text": [
      "its a phrase not a specific word\n"
     ]
    }
   ],
   "source": [
    "#18.ends with a phrase o specific word\n",
    "var=\"iam happy\"\n",
    "if  var .endswith(\"happy\"):\n",
    "    print('its a phrase not a specific word')"
   ]
  },
  {
   "cell_type": "code",
   "execution_count": 6,
   "id": "a64d663a-8af3-4710-9b81-e7ac8f3b7bba",
   "metadata": {
    "tags": []
   },
   "outputs": [
    {
     "data": {
      "text/plain": [
       "'Indian Women'"
      ]
     },
     "execution_count": 6,
     "metadata": {},
     "output_type": "execute_result"
    }
   ],
   "source": [
    "#19.title case\n",
    "s=\"indian women\"\n",
    "s.title()\n"
   ]
  },
  {
   "cell_type": "code",
   "execution_count": 1,
   "id": "a875bd46-d1e4-4dfd-9c04-77b9b6c84cd9",
   "metadata": {
    "tags": []
   },
   "outputs": [
    {
     "name": "stdin",
     "output_type": "stream",
     "text": [
      "Enter sentence :  be a pride of nation\n"
     ]
    },
    {
     "name": "stdout",
     "output_type": "stream",
     "text": [
      "longest word is :  nation\n",
      "and its length is :  6\n"
     ]
    }
   ],
   "source": [
    "#20.longest word\n",
    "sentence= input(\"Enter sentence : \")\n",
    "longest= max(sentence.split(), key=len)\n",
    "print('longest word is : ',longest)\n",
    "print(\"and its length is : \", len(longest))\n"
   ]
  },
  {
   "cell_type": "code",
   "execution_count": 2,
   "id": "d0a1d752-aac6-43e4-b74d-07fe6c9251e1",
   "metadata": {},
   "outputs": [
    {
     "name": "stdin",
     "output_type": "stream",
     "text": [
      "enter sentence :  chandrayan 3 launched succesfully\n"
     ]
    },
    {
     "name": "stdout",
     "output_type": "stream",
     "text": [
      "shortest word is :  3\n",
      "and its length is :  1\n"
     ]
    }
   ],
   "source": [
    "#21.shortest word\n",
    "sentence= input(\"enter sentence : \")\n",
    "shortest= min(sentence.split(), key=len)\n",
    "print('shortest word is : ',shortest)\n",
    "print('and its length is : ',len(shortest))"
   ]
  },
  {
   "cell_type": "code",
   "execution_count": 3,
   "id": "cb6d5230-297f-403b-99bf-dc3f3a5341c6",
   "metadata": {},
   "outputs": [
    {
     "data": {
      "text/plain": [
       "'noitanitsed a ton yenruoj a si sseccus'"
      ]
     },
     "execution_count": 3,
     "metadata": {},
     "output_type": "execute_result"
    }
   ],
   "source": [
    "#22.reverse\n",
    "s=\"success is a journey not a destination\"\n",
    "s[::-1]\n",
    "    "
   ]
  },
  {
   "cell_type": "code",
   "execution_count": 4,
   "id": "dd4be3ae-2d82-4aea-ba6e-5bcd2e85e40d",
   "metadata": {},
   "outputs": [
    {
     "name": "stdout",
     "output_type": "stream",
     "text": [
      "True\n"
     ]
    }
   ],
   "source": [
    "#23.alphanumeric\n",
    "A=\"vishaka2221\"\n",
    "B=A.isalnum()\n",
    "print(B)"
   ]
  },
  {
   "cell_type": "code",
   "execution_count": 1,
   "id": "900012b1-74dc-427c-bbe2-a58d27ad7067",
   "metadata": {
    "tags": []
   },
   "outputs": [
    {
     "data": {
      "text/plain": [
       "['2', '12']"
      ]
     },
     "execution_count": 1,
     "metadata": {},
     "output_type": "execute_result"
    }
   ],
   "source": [
    "#24.extract all digits from string\n",
    "s= \"group2 exams will be held on march12\" \n",
    "import re\n",
    "re.findall(r'\\d+', \"group2 exams will be held on march12\")\n",
    "\n"
   ]
  },
  {
   "cell_type": "code",
   "execution_count": 1,
   "id": "7ebe1775-0532-437a-b197-bdd87600ba1e",
   "metadata": {
    "tags": []
   },
   "outputs": [
    {
     "name": "stdout",
     "output_type": "stream",
     "text": [
      "The original list is : ['gfg', 'is23', 'best', 'for2', 'geeks']\n",
      "Strings after filtering : ['gfg', 'best', 'geeks']\n"
     ]
    }
   ],
   "source": [
    "# 25.Python3 code to demonstrate working of\n",
    "# Extract Alphabet only Strings\n",
    "# Using isalpha() + list comprehension\n",
    " \n",
    "# initializing list\n",
    "test_list = ['', 'is23', 'best', 'for2', 'geeks']\n",
    " \n",
    "# printing original list\n",
    "print(\"The original list is : \" + str(test_list))\n",
    " \n",
    "# Extract Alphabet only Strings\n",
    "# Using isalpha() + list comprehension\n",
    "res = [sub for sub in test_list if sub.isalpha()]\n",
    " \n",
    "# printing result\n",
    "print(\"Strings after filtering : \" + str(res))\n"
   ]
  },
  {
   "cell_type": "code",
   "execution_count": 7,
   "id": "4b1cf52c-383e-4339-9055-8ce264fa2007",
   "metadata": {},
   "outputs": [
    {
     "name": "stdout",
     "output_type": "stream",
     "text": [
      "12\n"
     ]
    }
   ],
   "source": [
    "#26.count the upper case\n",
    "str_obj = 'i LOVE to eat ICECREAM'\n",
    "\n",
    "count = sum(1 for elem in str_obj if elem.isupper())\n",
    "\n",
    "print(count)"
   ]
  },
  {
   "cell_type": "code",
   "execution_count": 8,
   "id": "70804796-35e0-4d50-844c-faae568ca532",
   "metadata": {},
   "outputs": [
    {
     "name": "stdout",
     "output_type": "stream",
     "text": [
      "13\n"
     ]
    }
   ],
   "source": [
    "#27.count the lower case\n",
    "str_obj = 'i love to EXPLORE myself'\n",
    "\n",
    "count = sum(1 for elem in str_obj if elem.islower())\n",
    "\n",
    "print(count)"
   ]
  },
  {
   "cell_type": "code",
   "execution_count": 9,
   "id": "70dd8dcc-08d1-4ddf-b31b-b191b4928e11",
   "metadata": {},
   "outputs": [
    {
     "name": "stdout",
     "output_type": "stream",
     "text": [
      "QUEEN VISHAKA\n"
     ]
    }
   ],
   "source": [
    "#28.swapping\n",
    "s=('queen vishaka')\n",
    "print(s.swapcase())"
   ]
  },
  {
   "cell_type": "code",
   "execution_count": 10,
   "id": "28f3994e-c210-4c84-8cc5-79a0f26345fb",
   "metadata": {
    "tags": []
   },
   "outputs": [
    {
     "name": "stdout",
     "output_type": "stream",
     "text": [
      "The love of money is the root of  evil\n"
     ]
    }
   ],
   "source": [
    "#29.remove a word from the string \n",
    "a1 = \"The love of money is the root of all evil\"\n",
    "a2 = a1.replace(\"all\", '')\n",
    "print(a2)  "
   ]
  },
  {
   "cell_type": "code",
   "execution_count": 12,
   "id": "5c5c0d45-96e4-4611-8c1f-e9b90c3e51d7",
   "metadata": {},
   "outputs": [
    {
     "name": "stdout",
     "output_type": "stream",
     "text": [
      "Valid Email\n",
      "Valid Email\n",
      "Invalid Email\n"
     ]
    }
   ],
   "source": [
    "#30.check if string is valid email address\n",
    "import re\n",
    "regex = r'\\b[A-Za-z0-9._%+-]+@[A-Za-z0-9.-]+\\.[A-Z|a-z]{2,7}\\b'\n",
    "def check(email):\n",
    "    if(re.fullmatch(regex, email)):\n",
    "        print(\"Valid Email\")\n",
    " \n",
    "    else:\n",
    "        print(\"Invalid Email\")\n",
    " \n",
    "# Driver Code\n",
    "if __name__ == '__main__':\n",
    " \n",
    "    # Enter the email\n",
    "    email = \"lexwanthigowtham@gmail.com\"\n",
    "    check(email)\n",
    " \n",
    "    email = \"venky11@gmail.com\"\n",
    "    check(email)\n",
    " \n",
    "    email = \"lexi.com\"\n",
    "    check(email)"
   ]
  },
  {
   "cell_type": "code",
   "execution_count": 14,
   "id": "592a5ab4-4e26-4c6e-959b-004322bfdaab",
   "metadata": {},
   "outputs": [
    {
     "name": "stdout",
     "output_type": "stream",
     "text": [
      "['vishaka']\n"
     ]
    }
   ],
   "source": [
    "#31.extract user name\n",
    "email = \"vishaka@gowlex.com\"\n",
    "\n",
    "name, _, _ = email.partition(\"@\") \n",
    "splitname = name.split(\".\")        \n",
    "\n",
    "print(splitname)"
   ]
  },
  {
   "cell_type": "code",
   "execution_count": 19,
   "id": "4114d6be-14c7-4c32-ac90-f86bf7faceb1",
   "metadata": {},
   "outputs": [
    {
     "name": "stdout",
     "output_type": "stream",
     "text": [
      "gmail.com\n"
     ]
    }
   ],
   "source": [
    "#32.domain name\n",
    "email = \"goethamtraders@gmail.com\"\n",
    "domain_name = email.split(\"@\")[1]\n",
    "print(domain_name) "
   ]
  },
  {
   "cell_type": "code",
   "execution_count": 20,
   "id": "d8e68f6e-8108-47c7-ab41-caf9e0dd83ce",
   "metadata": {},
   "outputs": [
    {
     "name": "stdout",
     "output_type": "stream",
     "text": [
      "look good feel good\n"
     ]
    }
   ],
   "source": [
    "#33. replace multiple spaces with single spaces\n",
    "a = \"look good         feel      good\"\n",
    "a = \" \".join(a.split())\n",
    "print(a)\n",
    "\n"
   ]
  },
  {
   "cell_type": "code",
   "execution_count": 24,
   "id": "f7511908-2d5d-41f5-bbe1-f094fdf78a71",
   "metadata": {},
   "outputs": [
    {
     "name": "stdout",
     "output_type": "stream",
     "text": [
      "True\n",
      "True\n",
      "False\n"
     ]
    }
   ],
   "source": [
    "#34.valid url\n",
    "import re\n",
    "\n",
    "def is_valid_url(url):\n",
    "    pattern = r'^(http|https):\\/\\/([\\w.-]+)(\\.[\\w.-]+)+([\\/\\w\\.-]*)*\\/?$'\n",
    "    return bool(re.match(pattern, url))\n",
    "\n",
    "# Usage\n",
    "url1 = 'https://www.gowyacademy.com/cat/sample-data'\n",
    "url2 = \"https://api.gowyacademy.com/v1/sample-data/\"\n",
    "url3 = \"abcxyz\"\n",
    "\n",
    "print(is_valid_url(url1)) # True\n",
    "print(is_valid_url(url2)) # True\n",
    "print(is_valid_url(url3)) # False"
   ]
  },
  {
   "cell_type": "code",
   "execution_count": 25,
   "id": "b904c57f-9d3e-4b1b-8ca2-bf7291392536",
   "metadata": {},
   "outputs": [
    {
     "name": "stdout",
     "output_type": "stream",
     "text": [
      "https://lexigowy.google.com\n"
     ]
    }
   ],
   "source": [
    "#35.protocol extraction\n",
    "import re\n",
    "url = 'https://lexigowy.google.com/spreadsheet/ccc?key=blah-blah-blah-blah#gid=1'\n",
    "result = re.search(r'^http[s]*:\\/\\/[\\w\\.]*', url).group()\n",
    "print(result)\n"
   ]
  },
  {
   "cell_type": "code",
   "execution_count": 26,
   "id": "c14480a5-a984-415f-9cc5-1f7e5ee0e532",
   "metadata": {},
   "outputs": [
    {
     "name": "stdout",
     "output_type": "stream",
     "text": [
      "Counter({'g': 2, 'p': 1, 'i': 1, 'y': 1, ' ': 1, 'b': 1, 'a': 1, 'n': 1, 'k': 1})\n"
     ]
    }
   ],
   "source": [
    "#36.count the frequency\n",
    "from collections import Counter\n",
    "string = \"piggy bank\"\n",
    "\n",
    "output = Counter(string)\n",
    "\n",
    "print(output)"
   ]
  },
  {
   "cell_type": "code",
   "execution_count": 27,
   "id": "5c2f8575-6959-42a7-9db3-5826d7d39a39",
   "metadata": {},
   "outputs": [
    {
     "name": "stdout",
     "output_type": "stream",
     "text": [
      "hi what is the weather like\n"
     ]
    }
   ],
   "source": [
    "#37.remove all punctuations from a string \n",
    "import string\n",
    "\n",
    "a_string = '!hi. wh?at is the weat[h]er lik?e.'\n",
    "\n",
    "for character in string.punctuation:\n",
    "    a_string = a_string.replace(character, '')\n",
    "\n",
    "print(a_string)"
   ]
  },
  {
   "cell_type": "code",
   "execution_count": 29,
   "id": "036869c5-a75f-4d3d-9e34-bc3149c27b93",
   "metadata": {},
   "outputs": [
    {
     "name": "stdout",
     "output_type": "stream",
     "text": [
      "True\n"
     ]
    }
   ],
   "source": [
    "#38.string is a digit\n",
    "x= \"50800\"\n",
    "\n",
    "y= x.isdigit()\n",
    "\n",
    "print(y)"
   ]
  },
  {
   "cell_type": "code",
   "execution_count": 30,
   "id": "ebe52e79-b96e-4258-9e7e-832006d8c72a",
   "metadata": {},
   "outputs": [
    {
     "name": "stdout",
     "output_type": "stream",
     "text": [
      "True\n"
     ]
    }
   ],
   "source": [
    "#39.string cotains only alphabets\n",
    "txt = \"sfhjfvju\"\n",
    "\n",
    "x = txt.isalpha()\n",
    "\n",
    "print(x)"
   ]
  },
  {
   "cell_type": "code",
   "execution_count": 31,
   "id": "cae097d3-bdd0-458a-b124-415fceec94c0",
   "metadata": {},
   "outputs": [
    {
     "name": "stdout",
     "output_type": "stream",
     "text": [
      "['name:lexwanthi,age:23,batch:2023']\n"
     ]
    }
   ],
   "source": [
    "#40.string to list\n",
    "s=(\"name:lexwanthi,age:23,batch:2023\")\n",
    "list =  s.split()\n",
    "print(list)"
   ]
  },
  {
   "cell_type": "code",
   "execution_count": 37,
   "id": "f661ffae-be0c-4c8f-9193-a496cdac7b10",
   "metadata": {},
   "outputs": [
    {
     "data": {
      "text/plain": [
       "True"
      ]
     },
     "execution_count": 37,
     "metadata": {},
     "output_type": "execute_result"
    }
   ],
   "source": [
    "#41.anagram\n",
    "sorted('anagram')\n",
    "['a', 'a', 'a', 'g', 'm', 'n', 'r']\n",
    "sorted('nagaram')\n",
    "['a', 'a', 'a', 'g', 'm', 'n', 'r']\n",
    "sorted('anagram') == sorted('nagaram')\n",
    "\n"
   ]
  },
  {
   "cell_type": "code",
   "execution_count": 53,
   "id": "a152d015-257b-43d9-9fd1-9496ff62098a",
   "metadata": {},
   "outputs": [
    {
     "name": "stdout",
     "output_type": "stream",
     "text": [
      "Unicode of 'c' = 99\n",
      "Unicode of 'A' = 65\n"
     ]
    }
   ],
   "source": [
    "#42 and 43.decode cc and encode string\n",
    "c_unicode = ord(\"c\")\n",
    "\n",
    "A_unicode = ord(\"A\")\n",
    "\n",
    "print(\"Unicode of 'c' =\", c_unicode)\n",
    "\n",
    "print(\"Unicode of 'A' =\", A_unicode)"
   ]
  },
  {
   "cell_type": "code",
   "execution_count": 58,
   "id": "5a64096c-0e88-4379-b8af-66da21264452",
   "metadata": {},
   "outputs": [
    {
     "name": "stdout",
     "output_type": "stream",
     "text": [
      "The original list is:  ['brave lion', 'roar', 'brave']\n",
      "Word with most frequency:  brave\n"
     ]
    }
   ],
   "source": [
    "#44.most frequent word\n",
    "from collections import Counter\n",
    "from functools import reduce\n",
    " \n",
    "def most_frequent_word(test_list):\n",
    "    all_words = reduce(lambda a, b: a + b, [sub.split() for sub in test_list])\n",
    "    word_counts = Counter(all_words)\n",
    "    return word_counts.most_common(1)[0][0]\n",
    " \n",
    "test_list = [\"brave lion\", \"roar\", \"brave\"]\n",
    "print(\"The original list is: \", test_list)\n",
    "print(\"Word with most frequency: \", most_frequent_word(test_list))"
   ]
  },
  {
   "cell_type": "code",
   "execution_count": 59,
   "id": "ac3b66a2-db17-4834-a9eb-419bd07cc6b3",
   "metadata": {},
   "outputs": [
    {
     "name": "stdin",
     "output_type": "stream",
     "text": [
      "Please enter a sentence:  she see cheese\n"
     ]
    },
    {
     "name": "stdout",
     "output_type": "stream",
     "text": [
      "Unique words:  ['she', 'see', 'cheese']\n"
     ]
    }
   ],
   "source": [
    "#45.finding unique words\n",
    "from collections import Counter\n",
    "\n",
    "str1 = input(\"Please enter a sentence: \")\n",
    "words = str1.split(' ')\n",
    "c = Counter(words)\n",
    "unique = [w for w in words if c[w] == 1]\n",
    "\n",
    "print(\"Unique words: \", unique)"
   ]
  },
  {
   "cell_type": "code",
   "execution_count": 60,
   "id": "86bdaeb6-a91c-4b3c-b623-c88dfe96f174",
   "metadata": {},
   "outputs": [
    {
     "name": "stdin",
     "output_type": "stream",
     "text": [
      "Enter the word: fuzzy wuzzy was a bear\n"
     ]
    },
    {
     "name": "stdout",
     "output_type": "stream",
     "text": [
      "The number of syllables in the word is: \n",
      "6\n"
     ]
    }
   ],
   "source": [
    "#46.syllable count\n",
    "word=input(\"Enter the word:\")\n",
    "syllable_count=0\n",
    "for w in word:\n",
    "      if(w=='a' or w=='e' or w=='i' or w=='o' or w=='u' or w=='A' or w=='E' or w=='I' or w=='O' or w=='U'):\n",
    "            syllable_count=syllable_count+1\n",
    "print(\"The number of syllables in the word is: \")\n",
    "print(syllable_count)"
   ]
  },
  {
   "cell_type": "code",
   "execution_count": 61,
   "id": "2fc952fe-1706-485b-8370-9fefdaf847ff",
   "metadata": {},
   "outputs": [
    {
     "name": "stdout",
     "output_type": "stream",
     "text": [
      "valid\n"
     ]
    }
   ],
   "source": [
    "#47.special characters \n",
    "o=\"hai\"\n",
    "import re\n",
    "if(bool(re.match('^[a-zA-Z0-9]*$',o))==True):\n",
    "    print(\"valid\")\n",
    "else:\n",
    "    print(\"invalid\")"
   ]
  },
  {
   "cell_type": "code",
   "execution_count": 62,
   "id": "05a1f388-50c4-47f2-b239-ca5549c59a23",
   "metadata": {},
   "outputs": [
    {
     "data": {
      "text/plain": [
       "'hello your friend'"
      ]
     },
     "execution_count": 62,
     "metadata": {},
     "output_type": "execute_result"
    }
   ],
   "source": [
    "#48.remove nth word\n",
    "nreplace=1\n",
    "my_string=\"hello my friend\"\n",
    "words=my_string.split(\" \")\n",
    "words[nreplace]=\"your\"\n",
    "\" \".join(words)"
   ]
  },
  {
   "cell_type": "code",
   "execution_count": 63,
   "id": "c6c7772c-f9ce-4863-8764-dc7276f38c45",
   "metadata": {},
   "outputs": [
    {
     "name": "stdout",
     "output_type": "stream",
     "text": [
      "['The', 'Sun', 'rises', 'in', 'the', 'east']\n"
     ]
    }
   ],
   "source": [
    "#49.insert a word\n",
    "list = ['Sun', 'rises', 'in', 'the', 'east']\n",
    "list.insert(0, \"The\")\n",
    "print(list)"
   ]
  },
  {
   "cell_type": "code",
   "execution_count": 64,
   "id": "c51bdc18-7ea3-4a1b-bc1b-37b49f25d711",
   "metadata": {},
   "outputs": [
    {
     "name": "stdout",
     "output_type": "stream",
     "text": [
      "['apple', 'banana', 'cherry']\n"
     ]
    }
   ],
   "source": [
    "#50.csv string to list\n",
    "x = 'apple,banana,cherry'\n",
    "output = x.split(',')\n",
    "print(output)"
   ]
  },
  {
   "cell_type": "markdown",
   "id": "edf232fa-4fac-4dfe-8bd6-acb4fb2ea921",
   "metadata": {},
   "source": [
    "## list based problem\n"
   ]
  },
  {
   "cell_type": "code",
   "execution_count": 71,
   "id": "a06789e1-af28-42d1-a9ac-a68165a51ef0",
   "metadata": {},
   "outputs": [
    {
     "name": "stdout",
     "output_type": "stream",
     "text": [
      "[1, 2, 3, 4, 5, 6, 7, 8, 9, 10]\n"
     ]
    }
   ],
   "source": [
    "#1.list of int from 1 to 10\n",
    "numbers =  [1,2,3,4,5,6,7,8,9,10]\n",
    "\n",
    "print(numbers)"
   ]
  },
  {
   "cell_type": "code",
   "execution_count": 72,
   "id": "b0460cb2-c9f7-4de7-8ba6-615ab509bd58",
   "metadata": {},
   "outputs": [
    {
     "name": "stdout",
     "output_type": "stream",
     "text": [
      "The length of a list is 5\n"
     ]
    }
   ],
   "source": [
    "#2.Python program to find the length of a list without len\n",
    "\n",
    "# take list\n",
    "l = [1, 2, 3, 4, 5]\n",
    "\n",
    "# find length of the list\n",
    "count = 0\n",
    "for i in l:\n",
    "   count = count + 1\n",
    "\n",
    "# print length of the list\n",
    "print(\"The length of a list is\", count)"
   ]
  },
  {
   "cell_type": "code",
   "execution_count": 73,
   "id": "fee96b36-b8b9-4005-9a9f-99eac59a8f5c",
   "metadata": {},
   "outputs": [
    {
     "name": "stdout",
     "output_type": "stream",
     "text": [
      "['crazy', 'queen', 'smiles', 'lot', 'joy']\n"
     ]
    }
   ],
   "source": [
    "#3.append a element to end of list\n",
    "l2=['crazy','queen','smiles','lot']\n",
    "l2.append('joy')\n",
    "print(l2)"
   ]
  },
  {
   "cell_type": "code",
   "execution_count": 74,
   "id": "8667abce-dcab-4511-a559-22778668ae17",
   "metadata": {},
   "outputs": [
    {
     "name": "stdout",
     "output_type": "stream",
     "text": [
      "['lunar', 'crack', 'on', 'moon']\n"
     ]
    }
   ],
   "source": [
    "#4.insert \n",
    "l=['lunar','on','moon']\n",
    "l.insert(1,'crack')\n",
    "print(l)\n"
   ]
  },
  {
   "cell_type": "code",
   "execution_count": 75,
   "id": "2cafc55d-318c-4a67-ab35-da60695cdee8",
   "metadata": {},
   "outputs": [
    {
     "name": "stdout",
     "output_type": "stream",
     "text": [
      "Original List is : ['Iris', 'Orchids', 'Rose', 'Lavender', 'Lily', 'Carnations']\n",
      "After deleting the item : ['Iris', 'Rose', 'Lavender', 'Lily', 'Carnations']\n"
     ]
    }
   ],
   "source": [
    "#5.remove\n",
    "lst = ['Iris', 'Orchids', 'Rose', 'Lavender',\n",
    "    'Lily', 'Carnations']\n",
    "print(\"Original List is :\", lst)\n",
    " \n",
    "# using del statement\n",
    "# to delete item (Orchids at index 1)\n",
    "# from the list\n",
    "del lst[1]\n",
    "print(\"After deleting the item :\", lst)"
   ]
  },
  {
   "cell_type": "code",
   "execution_count": 76,
   "id": "9f91d79f-2fba-45b7-842a-10fa640c93e1",
   "metadata": {},
   "outputs": [
    {
     "data": {
      "text/plain": [
       "'b'"
      ]
     },
     "execution_count": 76,
     "metadata": {},
     "output_type": "execute_result"
    }
   ],
   "source": [
    "#6.remove an element by its index\n",
    "a = ['a', 'b', 'c', 'd']\n",
    "a.pop(1)"
   ]
  },
  {
   "cell_type": "code",
   "execution_count": 77,
   "id": "0634aff0-6a19-4551-94e4-73323b64b0c1",
   "metadata": {},
   "outputs": [
    {
     "name": "stdout",
     "output_type": "stream",
     "text": [
      "not exist\n"
     ]
    }
   ],
   "source": [
    "#7.check if an element exist in a list\n",
    "lst=[ 1, 6, 3, 5, 3, 4 ]\n",
    "#checking if element 7 is present\n",
    "# in the given list or not\n",
    "i=7\n",
    "# if element present then return\n",
    "# exist otherwise not exist\n",
    "if i in lst:\n",
    "    print(\"exist\")\n",
    "else:\n",
    "    print(\"not exist\")"
   ]
  },
  {
   "cell_type": "code",
   "execution_count": 78,
   "id": "988f467a-9ecd-421e-a776-42435b608edf",
   "metadata": {},
   "outputs": [
    {
     "name": "stdout",
     "output_type": "stream",
     "text": [
      "0\n"
     ]
    }
   ],
   "source": [
    "# 8.Finding the index of an item in a list\n",
    "a_list = ['datagy', 'twitter', 'facebook', 'twitter', 'tiktok', 'youtube']\n",
    "print(a_list.index('datagy'))"
   ]
  },
  {
   "cell_type": "code",
   "execution_count": 79,
   "id": "bbc31e18-248d-4110-91e2-3b7c36a0436c",
   "metadata": {},
   "outputs": [
    {
     "name": "stdout",
     "output_type": "stream",
     "text": [
      "8 has occurred 5 times\n"
     ]
    }
   ],
   "source": [
    "#9.count occurrences of element\n",
    "def countX(lst, x):\n",
    "    count = 0\n",
    "    for ele in lst:\n",
    "        if (ele == x):\n",
    "            count = count + 1\n",
    "    return count\n",
    " \n",
    " \n",
    "# Driver Code\n",
    "lst = [8, 6, 8, 10, 8, 20, 10, 8, 8]\n",
    "x = 8\n",
    "print('{} has occurred {} times'.format(x,\n",
    "                                        countX(lst, x)))"
   ]
  },
  {
   "cell_type": "code",
   "execution_count": 80,
   "id": "10d9b123-aef4-4137-a004-1d80657861ae",
   "metadata": {},
   "outputs": [
    {
     "name": "stdout",
     "output_type": "stream",
     "text": [
      "[9, 7, 5, 3, 1]\n"
     ]
    }
   ],
   "source": [
    "#10.reverse the order of elements\n",
    "l=[1,3,5,7,9]\n",
    "l.reverse()\n",
    "print(l)"
   ]
  },
  {
   "cell_type": "code",
   "execution_count": 81,
   "id": "33436c4c-f509-4a58-877b-b499dcf5e253",
   "metadata": {},
   "outputs": [
    {
     "name": "stdout",
     "output_type": "stream",
     "text": [
      "['a', 'b', 'i', 'l', 'o', 'p']\n"
     ]
    }
   ],
   "source": [
    "#11.sort in ascending order\n",
    "l2=['b','l','o','a','i','p']\n",
    "l2.sort()\n",
    "print(l2)"
   ]
  },
  {
   "cell_type": "code",
   "execution_count": 82,
   "id": "7bd3a5b9-fb71-444a-add2-bd7c594772a0",
   "metadata": {},
   "outputs": [
    {
     "name": "stdout",
     "output_type": "stream",
     "text": [
      "['z', 't', 'e', 'a']\n"
     ]
    }
   ],
   "source": [
    "#12.sort in desending order\n",
    "l3=['z','e','a','t']\n",
    "l3.sort(reverse= True)\n",
    "print(l3)"
   ]
  },
  {
   "cell_type": "code",
   "execution_count": 83,
   "id": "39b3fad7-25fd-4caf-aed0-768e6360d398",
   "metadata": {},
   "outputs": [
    {
     "name": "stdout",
     "output_type": "stream",
     "text": [
      "Even Number:  [2, 4, 6, 8, 10, 12, 14, 16, 18, 20]\n"
     ]
    }
   ],
   "source": [
    "#13.list of even number 1 to 20\n",
    "# python\n",
    "def EVEN_NUMBERS(num):\n",
    "    EVEN = []\n",
    "    for i in range(num):\n",
    "        if i !=0:\n",
    "            if i % 2 == 0:\n",
    "                EVEN.append(i)\n",
    "    return EVEN\n",
    "\n",
    "num = 21\n",
    "\n",
    "print(\"Even Number: \",EVEN_NUMBERS(num))"
   ]
  },
  {
   "cell_type": "code",
   "execution_count": 84,
   "id": "e124f7a7-59a7-4155-a364-453eb7ace60d",
   "metadata": {},
   "outputs": [
    {
     "name": "stdout",
     "output_type": "stream",
     "text": [
      "ODD Number:  [1, 3, 5, 7, 9, 11, 13, 15, 17, 19]\n"
     ]
    }
   ],
   "source": [
    "#14.LIST OF ODD NUMBERS\n",
    "def ODD_NUMBERS(num):\n",
    "    ODD = []\n",
    "    for i in range(num):\n",
    "        if i % 2 == 1:\n",
    "            ODD.append(i)\n",
    "    return ODD\n",
    "\n",
    "num = 21\n",
    "\n",
    "print(\"ODD Number: \",ODD_NUMBERS(num))"
   ]
  },
  {
   "cell_type": "code",
   "execution_count": 85,
   "id": "13ed6006-b852-47a0-bbf1-01dc2ad1b041",
   "metadata": {},
   "outputs": [
    {
     "name": "stdout",
     "output_type": "stream",
     "text": [
      "Sum of all elements in given list:  74\n"
     ]
    }
   ],
   "source": [
    "#15.sum of all elements\n",
    "total = 0\n",
    " \n",
    "# creating a list\n",
    "list1 = [11, 5, 17, 18, 23]\n",
    " \n",
    "# Iterate each element in list\n",
    "# and add them in variable total\n",
    "for ele in range(0, len(list1)):\n",
    "    total = total + list1[ele]\n",
    " \n",
    "# printing total value\n",
    "print(\"Sum of all elements in given list: \", total)"
   ]
  },
  {
   "cell_type": "code",
   "execution_count": 86,
   "id": "df859151-8d4b-41e5-98fb-1b816b22975c",
   "metadata": {},
   "outputs": [
    {
     "name": "stdout",
     "output_type": "stream",
     "text": [
      "435\n"
     ]
    }
   ],
   "source": [
    "#16.maximum value\n",
    "l1=[1,9,90,435,-78,67]\n",
    "max_value= max(l1)\n",
    "print(max_value)"
   ]
  },
  {
   "cell_type": "code",
   "execution_count": 87,
   "id": "cfb29ca3-e303-4cc1-9eb9-0bc1d65b9c73",
   "metadata": {},
   "outputs": [
    {
     "name": "stdout",
     "output_type": "stream",
     "text": [
      "-98\n"
     ]
    }
   ],
   "source": [
    "#17.minimum value\n",
    "l1=[12,34,-98,45,67,0]\n",
    "min_value= min(l1)\n",
    "print(min_value)"
   ]
  },
  {
   "cell_type": "code",
   "execution_count": 88,
   "id": "760247db-e0d3-43d9-aed0-9dcb4226f491",
   "metadata": {},
   "outputs": [
    {
     "name": "stdout",
     "output_type": "stream",
     "text": [
      "[1, 4, 9, 16, 25, 36, 49, 64, 81, 100, 121, 144, 169, 196, 225, 256, 289, 324, 361, 400]\n"
     ]
    }
   ],
   "source": [
    "#18.square numbers\n",
    "my_list = [1,2,3,4,5,6,7,8,9,10,11,12,13,14,15,16,17,18,19,20]\n",
    "squared_list = []\n",
    "\n",
    "for number in my_list:\n",
    "    squared_list.append(number**2)\n",
    "\n",
    "print(squared_list)"
   ]
  },
  {
   "cell_type": "code",
   "execution_count": 89,
   "id": "518f90ca-9d1c-4985-8f57-bb5da6eec0ca",
   "metadata": {},
   "outputs": [
    {
     "name": "stdout",
     "output_type": "stream",
     "text": [
      "[4, 8, 9, 5, 9, 7, 7, 9, 6, 6]\n"
     ]
    }
   ],
   "source": [
    "#19.list of random numbers \n",
    "import random\n",
    " \n",
    "rand_list=[]\n",
    "n=10\n",
    "for i in range(n):\n",
    "    rand_list.append(random.randint(3,9))\n",
    "print(rand_list)"
   ]
  },
  {
   "cell_type": "code",
   "execution_count": 102,
   "id": "2249c716-04b7-4e06-b2d3-49e30defbd8c",
   "metadata": {},
   "outputs": [
    {
     "name": "stdout",
     "output_type": "stream",
     "text": [
      "[2, 4, 10, 20, 5]\n"
     ]
    }
   ],
   "source": [
    "# 20.Remove Duplicates from a Python list using a For Loop\n",
    "def Remove(duplicate):\n",
    "    final_list = []\n",
    "    for num in duplicate:\n",
    "        if num not in final_list:\n",
    "            final_list.append(num)\n",
    "    return final_list\n",
    "     \n",
    "# Driver Code\n",
    "duplicate = [2, 4, 10, 20, 5, 2, 20, 4]\n",
    "print(Remove(duplicate))\n",
    "\n"
   ]
  },
  {
   "cell_type": "code",
   "execution_count": 2,
   "id": "dcbfc117-0724-44fa-9735-d921a427110f",
   "metadata": {},
   "outputs": [
    {
     "data": {
      "text/plain": [
       "[3, 5]"
      ]
     },
     "execution_count": 2,
     "metadata": {},
     "output_type": "execute_result"
    }
   ],
   "source": [
    "#21.common element\n",
    "list1 = [1,2,3,4,5,6]\n",
    "list2 = [3, 5, 7, 9]\n",
    "list(set(list1).intersection(list2))"
   ]
  },
  {
   "cell_type": "code",
   "execution_count": 105,
   "id": "4d9f6d98-bc26-49db-a93e-9b8d50c550b0",
   "metadata": {},
   "outputs": [
    {
     "name": "stdout",
     "output_type": "stream",
     "text": [
      "[10, 15, 20, 30]\n"
     ]
    }
   ],
   "source": [
    "#22.difference between two list\n",
    "li1 = [10, 15, 20, 25, 30, 35, 40]\n",
    "li2 = [25, 40, 35]\n",
    " \n",
    "s = set(li2)\n",
    "temp3 = [x for x in li1 if x not in s]\n",
    "print(temp3)"
   ]
  },
  {
   "cell_type": "code",
   "execution_count": 106,
   "id": "d278e4dc-32ff-47f0-907f-5d7950adc6d9",
   "metadata": {},
   "outputs": [
    {
     "name": "stdout",
     "output_type": "stream",
     "text": [
      "['datagy', 'is', 'a', 'site', 'to', 'learn', 'python']\n"
     ]
    }
   ],
   "source": [
    "#23.merge two list\n",
    "list1 = ['datagy', 'is', 'a', 'site']\n",
    "list2 = ['to', 'learn', 'python']\n",
    "\n",
    "list3 = list1 + list2\n",
    "\n",
    "print(list3)"
   ]
  },
  {
   "cell_type": "code",
   "execution_count": 107,
   "id": "8bd23284-87d4-42a1-84f3-4793845d7ec6",
   "metadata": {},
   "outputs": [
    {
     "name": "stdout",
     "output_type": "stream",
     "text": [
      "[2, 4, 6, 8, 10]\n"
     ]
    }
   ],
   "source": [
    "#24.multiply by 2\n",
    "my_list = [1, 2, 3, 4, 5]\n",
    "my_new_list = [i * 2 for i in my_list]\n",
    "print(my_new_list)\n",
    "\n"
   ]
  },
  {
   "cell_type": "code",
   "execution_count": 3,
   "id": "ac54913a-7273-4990-b435-eae88a3c7010",
   "metadata": {},
   "outputs": [
    {
     "name": "stdout",
     "output_type": "stream",
     "text": [
      "Original List : [2, 5, 7, 8, 10, 13, 16]\n",
      "Filtered List : [2, 8, 10, 16]\n"
     ]
    }
   ],
   "source": [
    "#25.filter out even numbers\n",
    "def even(x):\n",
    "    return x % 2 == 0\n",
    " \n",
    "a = [2, 5, 7, 8, 10, 13, 16]\n",
    " \n",
    "result = filter(even, a)\n",
    "print('Original List :', a)\n",
    "print('Filtered List :', list(result))"
   ]
  },
  {
   "cell_type": "code",
   "execution_count": 109,
   "id": "b2bf9936-4674-43ad-9aa8-1f8b93cccad8",
   "metadata": {},
   "outputs": [
    {
     "name": "stdout",
     "output_type": "stream",
     "text": [
      "1\n",
      "2\n",
      "3\n",
      "4\n",
      "5\n"
     ]
    }
   ],
   "source": [
    "#26.list of str to list of int\n",
    "l=['1','2','3','4','5']\n",
    "\n",
    "for i in range(0,len(l)):\n",
    "    l[i]=int(l[i])\n",
    "    print(l[i])"
   ]
  },
  {
   "cell_type": "code",
   "execution_count": 4,
   "id": "126a2a26-9c3b-4868-93d6-fde515d90f39",
   "metadata": {},
   "outputs": [
    {
     "name": "stdout",
     "output_type": "stream",
     "text": [
      "['1', '12', '15', '21', '131']\n"
     ]
    }
   ],
   "source": [
    "#27.list of int to str\n",
    "list_int = [1, 12, 15, 21, 131]\n",
    "list_string = map(str, list_int)\n",
    "print(list(list_string))"
   ]
  },
  {
   "cell_type": "code",
   "execution_count": 111,
   "id": "dc7dfcbd-d4ed-4d3f-95d9-79f33cf62b75",
   "metadata": {},
   "outputs": [
    {
     "name": "stdout",
     "output_type": "stream",
     "text": [
      "[1, 2, 3, 4, 5, 6, 7]\n"
     ]
    }
   ],
   "source": [
    "#28.flatten a nested list\n",
    "my_list = [[1], [2, 3], [4, 5, 6, 7]]\n",
    "\n",
    "flat_list = [num for sublist in my_list for num in sublist]\n",
    "print(flat_list)"
   ]
  },
  {
   "cell_type": "code",
   "execution_count": 14,
   "id": "137880a7-f41b-4577-8596-3d044bfc03c8",
   "metadata": {},
   "outputs": [
    {
     "data": {
      "text/plain": [
       "[0, 1, 1, 2, 3, 5, 8, 13, 21, 34, 55, 89, 144, 233, 377]"
      ]
     },
     "execution_count": 14,
     "metadata": {},
     "output_type": "execute_result"
    }
   ],
   "source": [
    "#29.fibonacci number\n",
    ">>> def fibonacci_of(n):\n",
    "...     if n in {0, 1}:  # Base case\n",
    "...         return n\n",
    "...     return fibonacci_of(n - 1) + fibonacci_of(n - 2)  # Recursive case\n",
    "...\n",
    "\n",
    ">>> [fibonacci_of(n) for n in range(10)]\n",
    "[0, 1, 1, 2, 3, 5, 8, 13, 21, 34, 55, 89, 144, 233, 377]"
   ]
  },
  {
   "cell_type": "code",
   "execution_count": 15,
   "id": "aedf6b5c-4b7f-4513-b408-2df737aba7f7",
   "metadata": {},
   "outputs": [
    {
     "name": "stdout",
     "output_type": "stream",
     "text": [
      "Original list : [1, 4, 5, 8, 10]\n",
      "Yes, List is sorted.\n"
     ]
    }
   ],
   "source": [
    "#30.list is sorted\n",
    "test_list = [1, 4, 5, 8, 10]\n",
    " \n",
    "# printing original list\n",
    "print (\"Original list : \" + str(test_list))\n",
    " \n",
    "# using sorted() to\n",
    "# check sorted list\n",
    "flag = 0\n",
    "if(test_list == sorted(test_list)):\n",
    "    flag = 1\n",
    "     \n",
    "# printing result\n",
    "if (flag) :\n",
    "    print (\"Yes, List is sorted.\")\n",
    "else :\n",
    "    print (\"No, List is not sorted.\")"
   ]
  },
  {
   "cell_type": "code",
   "execution_count": 16,
   "id": "7b9b1cb8-61e8-4b4e-a5f1-ffb80cdf5164",
   "metadata": {},
   "outputs": [
    {
     "name": "stdout",
     "output_type": "stream",
     "text": [
      "Original list : [1, 4, 6, 7, 2]\n",
      "List after left rotate by 3 : [7, 2, 1, 4, 6]\n",
      "List after right rotate by 3(back to original) : [1, 4, 6, 7, 2]\n"
     ]
    }
   ],
   "source": [
    "#31,32 rotation of list\n",
    "test_list = [1, 4, 6, 7, 2]\n",
    " \n",
    "# printing original list\n",
    "print (\"Original list : \" + str(test_list))\n",
    " \n",
    "# using list comprehension to left rotate by 3\n",
    "test_list = [test_list[(i + 3) % len(test_list)]\n",
    "            for i, x in enumerate(test_list)]\n",
    " \n",
    "# Printing list after left rotate\n",
    "print (\"List after left rotate by 3 : \" + str(test_list))\n",
    " \n",
    "# using list comprehension to right rotate by 3\n",
    "# back to Original\n",
    "test_list = [test_list[(i - 3) % len(test_list)]\n",
    "            for i, x in enumerate(test_list)]\n",
    " \n",
    "# Printing after right rotate\n",
    "print (\"List after right rotate by 3(back to original) : \"\n",
    "                                        + str(test_list))\n"
   ]
  },
  {
   "cell_type": "code",
   "execution_count": 115,
   "id": "0593671a-f42a-4659-9ea6-cde49b860180",
   "metadata": {},
   "outputs": [
    {
     "name": "stdout",
     "output_type": "stream",
     "text": [
      "3\n",
      "5\n",
      "7\n",
      "9\n",
      "11\n",
      "13\n",
      "15\n",
      "17\n",
      "19\n",
      "21\n",
      "23\n",
      "25\n",
      "27\n",
      "29\n",
      "31\n",
      "33\n",
      "35\n",
      "37\n",
      "39\n",
      "41\n",
      "43\n",
      "45\n",
      "47\n",
      "49\n"
     ]
    }
   ],
   "source": [
    "#33.list of prime numbers upto 50\n",
    "for num in range(1, 51):\n",
    "    for i in range(2, num):\n",
    "        if num % i == 0:\n",
    "            break\n",
    "        else:\n",
    "            print(num)\n",
    "            break"
   ]
  },
  {
   "cell_type": "code",
   "execution_count": 116,
   "id": "6c8cda26-f056-4a61-adb2-a341ae115dbf",
   "metadata": {},
   "outputs": [
    {
     "data": {
      "text/plain": [
       "[array([0, 1, 2, 3, 4, 5, 6, 7, 8, 9]),\n",
       " array([10, 11, 12, 13, 14, 15, 16, 17, 18, 19]),\n",
       " array([20, 21, 22, 23, 24, 25, 26, 27, 28, 29]),\n",
       " array([30, 31, 32, 33, 34, 35, 36, 37, 38, 39]),\n",
       " array([40, 41, 42, 43, 44, 45, 46, 47, 48, 49])]"
      ]
     },
     "execution_count": 116,
     "metadata": {},
     "output_type": "execute_result"
    }
   ],
   "source": [
    "#34.split list into chunks\n",
    "import numpy as np\n",
    "\n",
    "lst = range(50)\n",
    "np.array_split(lst, 5)"
   ]
  },
  {
   "cell_type": "code",
   "execution_count": 17,
   "id": "20651338-974a-4f13-b4a4-17f9162a5ab4",
   "metadata": {},
   "outputs": [
    {
     "name": "stdout",
     "output_type": "stream",
     "text": [
      "Second largest element is: 45\n"
     ]
    }
   ],
   "source": [
    "#35.second largest number\n",
    "list1 = [10, 20, 20, 4, 45, 45, 45, 99, 99]\n",
    "\n",
    "list2 = list(set(list1))\n",
    " \n",
    "list2.sort()\n",
    "print(\"Second largest element is:\", list2[-2])"
   ]
  },
  {
   "cell_type": "code",
   "execution_count": 118,
   "id": "f44a4f3e-c5e2-4a13-b269-fe8ab6f30154",
   "metadata": {},
   "outputs": [
    {
     "name": "stdout",
     "output_type": "stream",
     "text": [
      "[1, 16, 9, 4, 25]\n"
     ]
    }
   ],
   "source": [
    "#36.replace with square\n",
    "\n",
    "def square_list(list1):\n",
    "    for i in list1:\n",
    "        list1[list1.index(i)] = i**2\n",
    "    print(list1)\n",
    "\n",
    "square_list([1, 2, 3, 4, 5])"
   ]
  },
  {
   "cell_type": "code",
   "execution_count": 119,
   "id": "2f62399d-661a-42d4-839c-c54a0ec9a01d",
   "metadata": {},
   "outputs": [
    {
     "data": {
      "text/plain": [
       "{'A': 0, 'C': 2, 'B': 1}"
      ]
     },
     "execution_count": 119,
     "metadata": {},
     "output_type": "execute_result"
    }
   ],
   "source": [
    " #37.list to dict\n",
    "lst = ['A', 'B', 'C']\n",
    "{k: v for v, k in enumerate(lst)}\n",
    "{'A': 0, 'C': 2, 'B': 1}"
   ]
  },
  {
   "cell_type": "code",
   "execution_count": 120,
   "id": "9167f5e2-5e00-4aed-957f-b0757c45bc62",
   "metadata": {},
   "outputs": [
    {
     "name": "stdout",
     "output_type": "stream",
     "text": [
      "['more', 'Python', 'you', 'to', 'datagy', 'where', 'will', 'learn', 'and', 'welcome']\n"
     ]
    }
   ],
   "source": [
    "#38.shuffle element randomly\n",
    "import random\n",
    "\n",
    "a_list = ['welcome', 'to', 'datagy', 'where', 'you', 'will', 'learn', 'Python', 'and', 'more']\n",
    "random.shuffle(a_list)\n",
    "\n",
    "print(a_list)\n",
    "\n"
   ]
  },
  {
   "cell_type": "code",
   "execution_count": 121,
   "id": "7e60cc3f-6ee8-4f86-8872-a2c50c2160a1",
   "metadata": {},
   "outputs": [
    {
     "name": "stdout",
     "output_type": "stream",
     "text": [
      "[1, 1, 2, 6, 12, 20, 30, 42, 56, 72]\n"
     ]
    }
   ],
   "source": [
    "#39.first 10 factorial num\n",
    "lst = [1] + [i for i in range(1,10)]\n",
    "lst[1:10] = [lst[i-1] * i for i in range(1,10)]\n",
    "print(lst)"
   ]
  },
  {
   "cell_type": "code",
   "execution_count": 122,
   "id": "f1e32c59-002a-444e-90a7-ca3134f8f77e",
   "metadata": {},
   "outputs": [
    {
     "name": "stdout",
     "output_type": "stream",
     "text": [
      "True\n"
     ]
    }
   ],
   "source": [
    "#40.common element\n",
    "# have any element in common\n",
    "list1 = [1, 2, 3, 4, 55]\n",
    "list2 = [2, 3, 90, 22]\n",
    " \n",
    "out = any(check in list1 for check in list2)\n",
    " \n",
    "if out:\n",
    "    print(\"True\")\n",
    "else :\n",
    "    print(\"False\")"
   ]
  },
  {
   "cell_type": "code",
   "execution_count": 123,
   "id": "57395255-4847-4901-b2ed-14d781c87b93",
   "metadata": {},
   "outputs": [
    {
     "name": "stdout",
     "output_type": "stream",
     "text": [
      "The original list is:\n",
      "[1, 2, 3, 4, 5, 6, 7, 8, 9]\n",
      "List after deleting all the elements: []\n"
     ]
    }
   ],
   "source": [
    "#41.remove all element\n",
    "myList = [1, 2, 3, 4, 5, 6, 7, 8, 9]\n",
    "print(\"The original list is:\")\n",
    "print(myList)\n",
    "# deleting elements using the pop() method\n",
    "while myList:\n",
    "    myList.pop()\n",
    "print(\"List after deleting all the elements:\",myList)"
   ]
  },
  {
   "cell_type": "code",
   "execution_count": 124,
   "id": "25818355-0bc1-4716-a60b-d0ed9b054c63",
   "metadata": {},
   "outputs": [
    {
     "name": "stdout",
     "output_type": "stream",
     "text": [
      "List before changes: [1, 2, 3, 4, -1, -4, 5, -6]\n",
      "List after changes: [1, 2, 3, 4, 0, 0, 5, 0]\n"
     ]
    }
   ],
   "source": [
    "#42.replace negative number with zero\n",
    "given_list = [1, 2, 3, 4, -1, -4, 5, -6]\n",
    "\n",
    "print(f'List before changes: {given_list}')\n",
    "\n",
    "for i in range(len(given_list)):\n",
    "    if given_list[i] < 0:\n",
    "        given_list[i] = 0\n",
    "\n",
    "print(f'List after changes: {given_list}')"
   ]
  },
  {
   "cell_type": "code",
   "execution_count": 125,
   "id": "b99497a9-1628-435f-b11a-f2afc59efe87",
   "metadata": {},
   "outputs": [
    {
     "data": {
      "text/plain": [
       "['This', 'is', 'a', 'string,', 'with', 'words!']"
      ]
     },
     "execution_count": 125,
     "metadata": {},
     "output_type": "execute_result"
    }
   ],
   "source": [
    "#43.convert str to list\n",
    "string = 'This is a string, with words!'\n",
    "string.split()"
   ]
  },
  {
   "cell_type": "code",
   "execution_count": 126,
   "id": "5909f7c4-6bf2-41b6-be3d-d0243674ec35",
   "metadata": {},
   "outputs": [
    {
     "name": "stdout",
     "output_type": "stream",
     "text": [
      "piece of paper\n"
     ]
    }
   ],
   "source": [
    "#44.convert list into string\n",
    "def listToString(s):\n",
    "    str1 = \" \"\n",
    "    return (str1.join(s))\n",
    "s = ['piece', 'of', 'paper']\n",
    "print(listToString(s))"
   ]
  },
  {
   "cell_type": "code",
   "execution_count": 18,
   "id": "abced1f1-531f-42cd-845b-0eac12127d3e",
   "metadata": {},
   "outputs": [
    {
     "data": {
      "text/plain": [
       "[2, 4, 8, 16, 32]"
      ]
     },
     "execution_count": 18,
     "metadata": {},
     "output_type": "execute_result"
    }
   ],
   "source": [
    "#45.n power of 2\n",
    "def gen(x):\n",
    "   i = 2\n",
    "   for n in range(x + 1):\n",
    "       yield i\n",
    "       i <<= 1\n",
    "\n",
    "list(gen(4))"
   ]
  },
  {
   "cell_type": "code",
   "execution_count": 19,
   "id": "b87cb07b-16b3-449d-98af-a542016eaaa3",
   "metadata": {},
   "outputs": [
    {
     "name": "stdout",
     "output_type": "stream",
     "text": [
      "The original list : ['love', 'makes', 'life', 'beautiful']\n",
      "Maximum length string is : beautiful\n"
     ]
    }
   ],
   "source": [
    "#46.longest str\n",
    "test_list = ['love', 'makes', 'life', 'beautiful']\n",
    " \n",
    "print(\"The original list : \" + str(test_list))\n",
    "res = max(test_list, key = len)\n",
    "print(\"Maximum length string is : \" + res)\n"
   ]
  },
  {
   "cell_type": "code",
   "execution_count": 20,
   "id": "3b6ef66a-e437-42e6-9006-974eef7af91b",
   "metadata": {},
   "outputs": [
    {
     "name": "stdout",
     "output_type": "stream",
     "text": [
      "The original list : ['gfg', 'is', 'best']\n",
      "Length of minimum string is : 2\n"
     ]
    }
   ],
   "source": [
    "#47.shortest str \n",
    "test_list = ['gfg', 'is', 'best']\n",
    "print(\"The original list : \" + str(test_list))\n",
    "res = len(min(test_list, key=len))\n",
    "print(\"Length of minimum string is : \" + str(res))"
   ]
  },
  {
   "cell_type": "code",
   "execution_count": 130,
   "id": "20880050-a5e8-41b8-8721-7b35e5af74d8",
   "metadata": {},
   "outputs": [
    {
     "name": "stdout",
     "output_type": "stream",
     "text": [
      "[1, 3, 6, 10, 15, 21, 28, 36, 45, 55]\n"
     ]
    }
   ],
   "source": [
    "#48.triangular numbers\n",
    "limit = n\n",
    "triangle_nums = []\n",
    "num = 0\n",
    "\n",
    "for i in range(1, limit + 1):\n",
    "    num += i\n",
    "    triangle_nums.append(num)\n",
    "print(triangle_nums)"
   ]
  },
  {
   "cell_type": "code",
   "execution_count": 131,
   "id": "084fd592-e1f2-43d8-a9d7-8019c108c694",
   "metadata": {},
   "outputs": [
    {
     "data": {
      "text/plain": [
       "False"
      ]
     },
     "execution_count": 131,
     "metadata": {},
     "output_type": "execute_result"
    }
   ],
   "source": [
    "#49.list containts another lis as subsequence\n",
    "items = set([-1, 0, 1, 2])\n",
    "set([1, 2]).issubset(items)\n",
    "True\n",
    "set([1, 3]).issubset(items)\n",
    "False"
   ]
  },
  {
   "cell_type": "code",
   "execution_count": 132,
   "id": "0c110096-1db5-43a0-bbe4-e1c10c921bd3",
   "metadata": {},
   "outputs": [
    {
     "name": "stdout",
     "output_type": "stream",
     "text": [
      "[19, 65, 23, 90]\n"
     ]
    }
   ],
   "source": [
    "#50.swap\n",
    "def swapPositions(list, pos1, pos2):\n",
    "     \n",
    "    list[pos1], list[pos2] = list[pos2], list[pos1]\n",
    "    return list\n",
    "List = [23, 65, 19, 90]\n",
    "pos1, pos2  = 1, 3\n",
    " \n",
    "print(swapPositions(List, pos1-1, pos2-1))"
   ]
  },
  {
   "cell_type": "markdown",
   "id": "1afe4851-a11e-4647-800d-6b1b7dd8f71a",
   "metadata": {},
   "source": [
    "# Tupel based problems\n"
   ]
  },
  {
   "cell_type": "code",
   "execution_count": 133,
   "id": "018ba715-fe9d-427d-971e-d1a8d02095b4",
   "metadata": {},
   "outputs": [
    {
     "data": {
      "text/plain": [
       "tuple"
      ]
     },
     "execution_count": 133,
     "metadata": {},
     "output_type": "execute_result"
    }
   ],
   "source": [
    "#1.1 to 5\n",
    "t=(1,2,3,4,5)\n",
    "type(t)\n"
   ]
  },
  {
   "cell_type": "code",
   "execution_count": 134,
   "id": "39c0d014-3fd4-46b1-b636-30805db87d29",
   "metadata": {},
   "outputs": [
    {
     "name": "stdout",
     "output_type": "stream",
     "text": [
      "cherry\n"
     ]
    }
   ],
   "source": [
    "#2.access third element\n",
    "\n",
    "thistuple = (\"apple\", \"banana\", \"cherry\")\n",
    "print(thistuple[2])"
   ]
  },
  {
   "cell_type": "code",
   "execution_count": 135,
   "id": "d32285d7-54d7-4dfd-a16b-e68d441bb4db",
   "metadata": {},
   "outputs": [
    {
     "name": "stdout",
     "output_type": "stream",
     "text": [
      "7\n"
     ]
    }
   ],
   "source": [
    "#3.length of tupel\n",
    "tup = (2, 22, 44, 66, 88, 122, 142)\n",
    "\n",
    "counter = 0\n",
    "\n",
    "for i in tup:\n",
    "    counter += 1\n",
    "\n",
    "print(counter)"
   ]
  },
  {
   "cell_type": "code",
   "execution_count": 136,
   "id": "9b05e7b8-bcdb-4aea-bf92-fea6bb10eca6",
   "metadata": {},
   "outputs": [
    {
     "name": "stdout",
     "output_type": "stream",
     "text": [
      "The count of 1 is: 3\n"
     ]
    }
   ],
   "source": [
    "#4.count occurence\n",
    "numbers = (1, 3, 4, 1, 6 ,1 )\n",
    "count = numbers.count(1)\n",
    "print('The count of 1 is:', count)"
   ]
  },
  {
   "cell_type": "code",
   "execution_count": 137,
   "id": "b1c8a826-1e7c-411f-922d-62952f844934",
   "metadata": {},
   "outputs": [
    {
     "name": "stdout",
     "output_type": "stream",
     "text": [
      "0\n"
     ]
    }
   ],
   "source": [
    "#5.index of first occurrence\n",
    "my_tuple = ( 4, 2, 5, 6, 7, 5)\n",
    "print(my_tuple.index(4))"
   ]
  },
  {
   "cell_type": "code",
   "execution_count": 21,
   "id": "0ee45eba-cef3-46c9-854b-0a3cdfdafa34",
   "metadata": {},
   "outputs": [
    {
     "name": "stdout",
     "output_type": "stream",
     "text": [
      "The original tuple is (('datascience', 'pro'), ('pwskills', 'best'))\n",
      "datascience is present\n"
     ]
    }
   ],
   "source": [
    "#6.check if a element exist in tupel\n",
    "test_tuple = ((\"datascience\", \"pro\"), (\"pwskills\", \"best\"))\n",
    "print(\"The original tuple is \" + str(test_tuple))\n",
    "if (any('datascience' in i for i in test_tuple)):\n",
    "    print(\"datascience is present\")\n",
    "else:\n",
    "    print(\"datascience is not present\")"
   ]
  },
  {
   "cell_type": "code",
   "execution_count": 22,
   "id": "dff3144d-4c14-46a8-97ef-775be9bc9a8c",
   "metadata": {},
   "outputs": [
    {
     "name": "stdout",
     "output_type": "stream",
     "text": [
      "[10, 20, 30, 40, 50]\n"
     ]
    }
   ],
   "source": [
    "#7.tupel to list\n",
    "value = (10, 20, 30, 40, 50)\n",
    "my_tuple = list(value)\n",
    "print(my_tuple)"
   ]
  },
  {
   "cell_type": "code",
   "execution_count": 140,
   "id": "5f441738-53bb-4d1b-a29f-c1610d37a3cd",
   "metadata": {},
   "outputs": [
    {
     "name": "stdout",
     "output_type": "stream",
     "text": [
      "(1, 2, 3, 4)\n"
     ]
    }
   ],
   "source": [
    "#8.list to tupel\n",
    "def convert(list):\n",
    "    return tuple(list)\n",
    "list = [1, 2, 3, 4]\n",
    "print(convert(list))\n",
    "\n"
   ]
  },
  {
   "cell_type": "code",
   "execution_count": 141,
   "id": "f22ecc71-720d-431c-a34d-dc7085ebd84a",
   "metadata": {},
   "outputs": [
    {
     "name": "stdout",
     "output_type": "stream",
     "text": [
      "paavai college\n",
      "5000\n",
      "Engineering\n"
     ]
    }
   ],
   "source": [
    "#9.unpacking\n",
    "a = (\"paavai college\", 5000, \"Engineering\") \n",
    "(college, student, type_ofcollege) = a \n",
    "print(college)\n",
    "print(student)\n",
    "print(type_ofcollege)"
   ]
  },
  {
   "cell_type": "code",
   "execution_count": 142,
   "id": "373477be-79b8-4332-98a1-524e0dc3b940",
   "metadata": {},
   "outputs": [
    {
     "name": "stdout",
     "output_type": "stream",
     "text": [
      "Tuple Items =  (1, 2, 3, 4, 5, 6, 7, 8, 9, 10)\n",
      "\n",
      "The Even Numbers in this evTuple Tuple are:\n",
      "2  4  6  8  10  "
     ]
    }
   ],
   "source": [
    "#10.tupel of even number\n",
    "\n",
    "evTuple = (1,2,3,4,5,6,7,8,9,10)\n",
    "print(\"Tuple Items = \", evTuple)\n",
    "\n",
    "print(\"\\nThe Even Numbers in this evTuple Tuple are:\")\n",
    "for i in range(len(evTuple)):\n",
    "    if(evTuple[i] % 2 == 0):\n",
    "        print(evTuple[i], end = \"  \")"
   ]
  },
  {
   "cell_type": "code",
   "execution_count": 143,
   "id": "0378303b-46a3-4e1a-8dc5-2d03907e399b",
   "metadata": {},
   "outputs": [
    {
     "name": "stdout",
     "output_type": "stream",
     "text": [
      "Odd Tuple Items =  (1, 2, 3, 4, 5, 6, 7, 8, 9, 10)\n",
      "\n",
      "The Odd Numbers in oddTuple Tuple are:\n",
      "1  3  5  7  9  "
     ]
    }
   ],
   "source": [
    "#11.tupel of odd number\n",
    "\n",
    "oddTuple = (1,2,3,4,5,6,7,8,9,10)\n",
    "print(\"Odd Tuple Items = \", oddTuple)\n",
    "\n",
    "print(\"\\nThe Odd Numbers in oddTuple Tuple are:\")\n",
    "for i in range(len(oddTuple)):\n",
    "    if(oddTuple[i] % 2 != 0):\n",
    "        print(oddTuple[i], end = \"  \")"
   ]
  },
  {
   "cell_type": "code",
   "execution_count": 23,
   "id": "52cc9ae3-57f5-4d4e-95dc-7ca96ef82bb9",
   "metadata": {},
   "outputs": [
    {
     "name": "stdout",
     "output_type": "stream",
     "text": [
      "The original tuple 1 : (1, 3, 5)\n",
      "The original tuple 2 : (4, 6)\n",
      "The tuple after concatenation is : (1, 3, 5, 4, 6)\n"
     ]
    }
   ],
   "source": [
    "#12.concate two tuples\n",
    "test_tup1 = (1, 3, 5)\n",
    "test_tup2 = (4, 6)\n",
    "print(\"The original tuple 1 : \" + str(test_tup1))\n",
    "print(\"The original tuple 2 : \" + str(test_tup2))\n",
    "res = test_tup1 + test_tup2\n",
    "print(\"The tuple after concatenation is : \" + str(res))"
   ]
  },
  {
   "cell_type": "code",
   "execution_count": 24,
   "id": "b7464c56-c7cf-4dd3-b11b-7549a4b4c273",
   "metadata": {},
   "outputs": [
    {
     "name": "stdout",
     "output_type": "stream",
     "text": [
      "The original tuple : (1, 3)\n",
      "The duplicated tuple elements are : ((1, 3), (1, 3), (1, 3))\n"
     ]
    }
   ],
   "source": [
    "#13.repeat tuples 3 times\n",
    "test_tup = (1, 3)\n",
    "print(\"The original tuple : \" + str(test_tup))\n",
    "N = 3\n",
    "res = ((test_tup, ) * N)\n",
    "print(\"The duplicated tuple elements are : \" + str(res))"
   ]
  },
  {
   "cell_type": "code",
   "execution_count": 146,
   "id": "d8ac4d5f-01c1-488a-83fc-c4763febec69",
   "metadata": {},
   "outputs": [
    {
     "name": "stdout",
     "output_type": "stream",
     "text": [
      "True\n",
      "False\n"
     ]
    }
   ],
   "source": [
    "#14.check tuple is empty\n",
    "t1 = ()\n",
    "t2 = (1, 2, 3)\n",
    "print(len(t1)==0)\n",
    "print(len(t2)==0)"
   ]
  },
  {
   "cell_type": "code",
   "execution_count": 147,
   "id": "b527f702-37c8-4ab3-a4d6-e06c27585d69",
   "metadata": {},
   "outputs": [
    {
     "name": "stdout",
     "output_type": "stream",
     "text": [
      "((0, 1, 2, 3), ('python', 'basic'))\n"
     ]
    }
   ],
   "source": [
    "#15.create a nested tuple\n",
    "tuple1 = (0, 1, 2, 3)\n",
    "tuple2 = ('python', 'basic')\n",
    " \n",
    "tuple3 = (tuple1, tuple2)\n",
    "print(tuple3)"
   ]
  },
  {
   "cell_type": "code",
   "execution_count": 148,
   "id": "06dc8ed8-8689-48fa-ac1b-e7b088f871ab",
   "metadata": {},
   "outputs": [
    {
     "data": {
      "text/plain": [
       "3"
      ]
     },
     "execution_count": 148,
     "metadata": {},
     "output_type": "execute_result"
    }
   ],
   "source": [
    "#16.access first element of nested tuple\n",
    "lst = [1, (2, 3)]\n",
    "lst[1][1] \n"
   ]
  },
  {
   "cell_type": "code",
   "execution_count": 149,
   "id": "2956dd2b-ed48-44bd-b5bb-2ce4c90b6bcb",
   "metadata": {},
   "outputs": [
    {
     "name": "stdout",
     "output_type": "stream",
     "text": [
      "<class 'tuple'>\n"
     ]
    }
   ],
   "source": [
    "#17.create tuples with single element\n",
    "thistuple = (\"apple\",)\n",
    "print(type(thistuple))"
   ]
  },
  {
   "cell_type": "code",
   "execution_count": 25,
   "id": "06f88bc0-a980-42a9-9844-37ff2b7f1f2f",
   "metadata": {},
   "outputs": [
    {
     "name": "stdout",
     "output_type": "stream",
     "text": [
      "The original tuple 1 : (10, 4, 5)\n",
      "The original tuple 2 : (13, 5, 18)\n",
      "Are all elements in second tuple greater than first ? : True\n"
     ]
    }
   ],
   "source": [
    "#18.compare two tuples\n",
    "test_tup1 = (10, 4, 5)\n",
    "test_tup2 = (13, 5, 18)\n",
    "#printing original tuples\n",
    "print(\"The original tuple 1 : \" + str(test_tup1))\n",
    "print(\"The original tuple 2 : \" + str(test_tup2))\n",
    "#comparing elements in the tuples\n",
    "res = False\n",
    "if test_tup2 > test_tup1:\n",
    "    res = True\n",
    "# printing result\n",
    "print(\"Are all elements in second tuple greater than first ? : \" + str(res))"
   ]
  },
  {
   "cell_type": "code",
   "execution_count": 152,
   "id": "a2bdfe1b-a4de-43a9-b227-3fbcd601b775",
   "metadata": {},
   "outputs": [],
   "source": [
    "#19.delete a tuple\n",
    "t=('baby','bus')\n",
    "del (t)\n",
    "#ask t it will shows error\n"
   ]
  },
  {
   "cell_type": "code",
   "execution_count": 153,
   "id": "192c92ed-2de9-40e4-baad-d0a886ef7d58",
   "metadata": {},
   "outputs": [
    {
     "name": "stdout",
     "output_type": "stream",
     "text": [
      "Sliced Tuple : (2, 5, 8, 1)\n"
     ]
    }
   ],
   "source": [
    "#20.slice a tuple\n",
    "aTuple = (2, 5, 8, 1, 9, 3, 7, 4)\n",
    "stop = 4\n",
    "indices = slice(stop)\n",
    "result = aTuple[indices]\n",
    "print('Sliced Tuple :', result)"
   ]
  },
  {
   "cell_type": "code",
   "execution_count": 156,
   "id": "b5daa4ef-c39d-4c6b-86aa-1b45f48a13d5",
   "metadata": {},
   "outputs": [
    {
     "name": "stdout",
     "output_type": "stream",
     "text": [
      "Maximum of Tuple is 6\n"
     ]
    }
   ],
   "source": [
    "#21.maximum value of \n",
    "Tuple = ( 1, 3, 4, 2, 5, 6 )\n",
    "   \n",
    "res = max(Tuple)\n",
    "print('Maximum of Tuple is', res)\n"
   ]
  },
  {
   "cell_type": "code",
   "execution_count": 155,
   "id": "e29bf2e3-db44-46e2-8560-d7f361ac5ec3",
   "metadata": {},
   "outputs": [
    {
     "name": "stdout",
     "output_type": "stream",
     "text": [
      "Mainimu of Tuple is 1\n"
     ]
    }
   ],
   "source": [
    "#22.minimum value of tuple\n",
    "Tuple = ( 1, 3, 4, 2, 5, 6 )\n",
    "   \n",
    "res = min(Tuple)\n",
    "print('Mainimu of Tuple is', res)"
   ]
  },
  {
   "cell_type": "code",
   "execution_count": 26,
   "id": "aac4d59a-e16b-41de-b96b-f76c5ba7c804",
   "metadata": {},
   "outputs": [
    {
     "name": "stdout",
     "output_type": "stream",
     "text": [
      "The original string : 1, -5, 4, 6, 7\n",
      "Tuple after getting conversion from String : (1, -5, 4, 6, 7)\n"
     ]
    }
   ],
   "source": [
    "#23.convert a str to tup\n",
    "test_str = \"1, -5, 4, 6, 7\"\n",
    "print(\"The original string : \" + str(test_str))\n",
    "res = eval(test_str)\n",
    "print(\"Tuple after getting conversion from String : \" + str(res))"
   ]
  },
  {
   "cell_type": "code",
   "execution_count": 158,
   "id": "1d69ea05-4c5a-4a2d-9bec-e1959d1c8faf",
   "metadata": {},
   "outputs": [
    {
     "name": "stdout",
     "output_type": "stream",
     "text": [
      "unicorn\n"
     ]
    }
   ],
   "source": [
    "#24.convert a tuple of character to a string\n",
    "def convertTuple(tup):\n",
    "    str = ''\n",
    "    for item in tup:\n",
    "        str = str + item\n",
    "    return str\n",
    "tuple = ('u', 'n', 'i', 'c', 'o','r','n')\n",
    "str = convertTuple(tuple)\n",
    "print(str)"
   ]
  },
  {
   "cell_type": "code",
   "execution_count": 159,
   "id": "4025b18e-b09d-4805-9698-6238d8fb406c",
   "metadata": {},
   "outputs": [
    {
     "name": "stdout",
     "output_type": "stream",
     "text": [
      "('tuple', False, 3.2, 1)\n"
     ]
    }
   ],
   "source": [
    "#25.create a tuple from multiple data type\n",
    "tuplex = (\"tuple\", False, 3.2, 1)\n",
    "print(tuplex)"
   ]
  },
  {
   "cell_type": "code",
   "execution_count": 27,
   "id": "b7fa9144-a3b6-45a4-984e-a5cf8f2ff349",
   "metadata": {},
   "outputs": [
    {
     "name": "stdout",
     "output_type": "stream",
     "text": [
      "The original list 1 : [(10, 4), (2, 5)]\n",
      "The original list 2 : [(10, 4), (2, 5)]\n",
      "Are tuple lists identical ? : True\n"
     ]
    }
   ],
   "source": [
    "#26.check if two tuples ae identical\n",
    "test_list1 = [(10, 4), (2, 5)]\n",
    "test_list2 = [(10, 4), (2, 5)]\n",
    "print(\"The original list 1 : \" + str(test_list1))\n",
    "print(\"The original list 2 : \" + str(test_list2))\n",
    "res = test_list1 == test_list2\n",
    "print(\"Are tuple lists identical ? : \" + str(res))"
   ]
  },
  {
   "cell_type": "code",
   "execution_count": 28,
   "id": "2c55c5b5-16b4-471f-98d2-21713b4b2de1",
   "metadata": {},
   "outputs": [
    {
     "name": "stdout",
     "output_type": "stream",
     "text": [
      "The original tuple is:\n",
      "(11, 2, 44, 21, 15, 4, 23, 12)\n",
      "The sorted tuple is:\n",
      "(2, 4, 11, 12, 15, 21, 23, 44)\n"
     ]
    }
   ],
   "source": [
    "#27.sort\n",
    "myTuple=(11,2,44,21,15,4,23,12)\n",
    "myList=list(myTuple)\n",
    "myList.sort()\n",
    "output=tuple(myList)\n",
    "print(\"The original tuple is:\")\n",
    "print(myTuple)\n",
    "print(\"The sorted tuple is:\")\n",
    "print(output)"
   ]
  },
  {
   "cell_type": "code",
   "execution_count": 29,
   "id": "2886d42e-227d-409e-a460-87edb14303b5",
   "metadata": {},
   "outputs": [
    {
     "name": "stdout",
     "output_type": "stream",
     "text": [
      "The original string is : (7, 8, 9)\n",
      "The tuple after conversion is : (7, 8, 9)\n"
     ]
    }
   ],
   "source": [
    "#28.convert tup of int to str\n",
    "test_str = \"(7, 8, 9)\"\n",
    "print(\"The original string is : \" + test_str)\n",
    "res = eval(test_str)\n",
    "print(\"The tuple after conversion is : \" + str(res))"
   ]
  },
  {
   "cell_type": "code",
   "execution_count": 30,
   "id": "fb707f6f-ac4a-42f4-b1c2-bfb0b33ca2e6",
   "metadata": {},
   "outputs": [
    {
     "name": "stdout",
     "output_type": "stream",
     "text": [
      "The original string is : (7, 8, 9)\n",
      "The tuple after conversion is : (7, 8, 9)\n"
     ]
    }
   ],
   "source": [
    "#29.convert tup of str to int\n",
    "test_str = \"(7, 8, 9)\"\n",
    "print(\"The original string is : \" + test_str)\n",
    "res = eval(test_str)\n",
    "print(\"The tuple after conversion is : \" + str(res))"
   ]
  },
  {
   "cell_type": "code",
   "execution_count": 164,
   "id": "a8759882-5e77-4976-9ab4-fbbe1ee46fe4",
   "metadata": {},
   "outputs": [
    {
     "name": "stdout",
     "output_type": "stream",
     "text": [
      "('a', 'b', 'c', 1, 2, 3)\n"
     ]
    }
   ],
   "source": [
    "#30.merge\n",
    "tuple1 = (\"a\", \"b\" , \"c\")\n",
    "tuple2 = (1, 2, 3)\n",
    "\n",
    "tuple3 = tuple1 + tuple2\n",
    "print(tuple3)"
   ]
  },
  {
   "cell_type": "code",
   "execution_count": 31,
   "id": "cd280e50-ff74-4924-9124-ba9b63105847",
   "metadata": {},
   "outputs": [
    {
     "name": "stdout",
     "output_type": "stream",
     "text": [
      "The original tuple : ((4, 5), ((4, 7), (8, 9), (10, 11)), ((9, 10), (3, 4)))\n",
      "The flattened tuple : (4, 5, (4, 7), (8, 9), (10, 11), (9, 10), (3, 4))\n"
     ]
    }
   ],
   "source": [
    "#31. flatten a nested tupel\n",
    "import itertools\n",
    " \n",
    "# initializing tuple\n",
    "test_tuple = ((4, 5), ((4, 7), (8, 9), (10, 11)), (((9, 10), (3, 4))))\n",
    " \n",
    "# printing original tuple\n",
    "print(\"The original tuple : \" + str(test_tuple))\n",
    " \n",
    "# Flatten Nested Tuples using itertools.chain.from_iterable()\n",
    "res = tuple(itertools.chain.from_iterable(test_tuple))\n",
    " \n",
    "# printing result\n",
    "print(\"The flattened tuple : \" + str(res))"
   ]
  },
  {
   "cell_type": "code",
   "execution_count": 166,
   "id": "0d60efe2-cbae-4266-b6c2-53b4b839acef",
   "metadata": {},
   "outputs": [
    {
     "name": "stdout",
     "output_type": "stream",
     "text": [
      "The number 2 is prime\n",
      "1\n",
      "The number 3 is prime\n",
      "2\n",
      "The number 2 is prime\n",
      "3\n",
      "The number 3 is prime\n",
      "4\n",
      "The number 2 is prime\n",
      "5\n",
      "The number 3 is prime\n",
      "6\n"
     ]
    }
   ],
   "source": [
    "#32.first five prime num\n",
    "count = 0\n",
    "\n",
    "while(count <= 5):\n",
    "    for i in range(2, 5):\n",
    "        for j in range(2, i):\n",
    "            if i < j:\n",
    "                print(\"The number\",i,\"is prime\")\n",
    "            elif i % j == 0:\n",
    "                break\n",
    "        else:\n",
    "            print(\"The number\",i,\"is prime\")\n",
    "            count = count + 1\n",
    "            print(count)"
   ]
  },
  {
   "cell_type": "code",
   "execution_count": 167,
   "id": "c81e9986-d112-46ee-9aa8-e370436b6725",
   "metadata": {},
   "outputs": [
    {
     "name": "stdin",
     "output_type": "stream",
     "text": [
      "Enter text:  baby bear\n"
     ]
    }
   ],
   "source": [
    "#33.palindrome\n",
    "def reverse(text):\n",
    "    return text[::-1]\n",
    "\n",
    "def is_palindrome(text):\n",
    "    return text == reverse(text)\n",
    "\n",
    "something = input(\"Enter text: \")\n",
    "if is_palindrome(something):\n",
    "    print(\"Yes, it is a palindrome\")"
   ]
  },
  {
   "cell_type": "code",
   "execution_count": 9,
   "id": "8b8273b5-3b54-45cc-a789-5ffd0cdcacef",
   "metadata": {},
   "outputs": [
    {
     "name": "stdin",
     "output_type": "stream",
     "text": [
      " Please Enter any numeric Value :  4\n"
     ]
    },
    {
     "name": "stdout",
     "output_type": "stream",
     "text": [
      "The Square of a Given Number 4.0  = 16.0\n"
     ]
    }
   ],
   "source": [
    "#34.square the number\n",
    "def square(num):\n",
    "    return num * num\n",
    "\n",
    "number = float(input(\" Please Enter any numeric Value : \"))\n",
    "\n",
    "sqre = square(number)\n",
    "\n",
    "print(\"The Square of a Given Number {0}  = {1}\".format(number, sqre))"
   ]
  },
  {
   "cell_type": "code",
   "execution_count": 11,
   "id": "160646e5-42e0-470c-8a8e-a8ff568fed48",
   "metadata": {},
   "outputs": [
    {
     "name": "stdout",
     "output_type": "stream",
     "text": [
      "The original list is : [(6, 4, 2, 8), (5, 6, 7, 6), (8, 0, 2), (7,)]\n",
      "Filtered Tuples : [(6, 4, 2, 8), (8, 0, 2)]\n"
     ]
    }
   ],
   "source": [
    "#35.all even numbers\n",
    "test_list = [(6, 4, 2, 8), (5, 6, 7, 6), (8, 0, 2), (7, )]\n",
    "print(\"The original list is : \" + str(test_list))\n",
    "res = [sub for sub in test_list if all(ele % 2 == 0 for ele in sub)]\n",
    "print(\"Filtered Tuples : \" + str(res))"
   ]
  },
  {
   "cell_type": "code",
   "execution_count": 13,
   "id": "8744c017-cdbf-40ef-8a5e-98617e82a761",
   "metadata": {},
   "outputs": [
    {
     "name": "stdout",
     "output_type": "stream",
     "text": [
      "(10, 6)\n"
     ]
    }
   ],
   "source": [
    "#36.multiple element by 2\n",
    "import math\n",
    "\n",
    "my_tuple = (5, 3)\n",
    "\n",
    "by_two = tuple(2 * elem for elem in my_tuple)\n",
    "\n",
    "print(by_two)  "
   ]
  },
  {
   "cell_type": "code",
   "execution_count": 15,
   "id": "1f2fb0e3-36e7-4600-ab16-fc737d1f1faa",
   "metadata": {},
   "outputs": [
    {
     "name": "stdout",
     "output_type": "stream",
     "text": [
      "The N random tuples : [(2, 8), (10, 1), (8, 6), (10, 10), (10, 8)]\n"
     ]
    }
   ],
   "source": [
    "#37.random numbers\n",
    "import random\n",
    "N = 5\n",
    "R = 10\n",
    "res = [divmod(ele, R + 1) for ele in random.sample(range((R + 1) * (R + 1)), N)]\n",
    "print(\"The N random tuples : \" + str(res))"
   ]
  },
  {
   "cell_type": "code",
   "execution_count": 17,
   "id": "185b8939-8a47-4184-8294-ae93b4eba180",
   "metadata": {},
   "outputs": [
    {
     "name": "stdout",
     "output_type": "stream",
     "text": [
      "True\n"
     ]
    }
   ],
   "source": [
    "#38.check tuple is sorted\n",
    "def is_tuple_sorted(t):\n",
    "    for i in range(1, len(t)):\n",
    "        if t[i] < t[i-1]:\n",
    "            return False\n",
    "    return True\n",
    "# create a tuple\n",
    "t = (1, 2, 3, 4, 5)\n",
    "print(is_tuple_sorted(t))\n"
   ]
  },
  {
   "cell_type": "code",
   "execution_count": 18,
   "id": "7d827e54-a653-45ce-bf89-04ae53eb7c42",
   "metadata": {},
   "outputs": [
    {
     "name": "stdout",
     "output_type": "stream",
     "text": [
      "3 4 5 6 7 1 2 "
     ]
    }
   ],
   "source": [
    "#39.rotate tup to left\n",
    "def rotate(L, d, n):\n",
    "    k = L.index(d)\n",
    "    new_lis = []\n",
    "    new_lis = L[k+1:]+L[0:k+1]\n",
    "    return new_lis\n",
    " \n",
    " \n",
    "if __name__ == '__main__':\n",
    "    arr = [1, 2, 3, 4, 5, 6, 7]\n",
    "    d = 2\n",
    "    N = len(arr)\n",
    " \n",
    "    # Function call\n",
    "    arr = rotate(arr, d, N)\n",
    "    for i in arr:\n",
    "        print(i, end=\" \")"
   ]
  },
  {
   "cell_type": "code",
   "execution_count": 20,
   "id": "ef041707-f188-4def-9e12-615d31b0818c",
   "metadata": {},
   "outputs": [
    {
     "name": "stdout",
     "output_type": "stream",
     "text": [
      "(2.71, 3.14)\n"
     ]
    }
   ],
   "source": [
    "#40. rotate a tup to right\n",
    "import typing\n",
    "\n",
    "\n",
    "def rotate_block(block: typing.Tuple[float, float]):\n",
    "    width, height = block\n",
    "\n",
    "    return height, width\n",
    "\n",
    "\n",
    "input_block = (3.14, 2.71)\n",
    "\n",
    "print(rotate_block(input_block))"
   ]
  },
  {
   "cell_type": "code",
   "execution_count": 26,
   "id": "8961bf1e-7e12-47e6-8c01-c9ad2c0fb789",
   "metadata": {},
   "outputs": [
    {
     "name": "stdin",
     "output_type": "stream",
     "text": [
      "How many terms?  5\n"
     ]
    },
    {
     "name": "stdout",
     "output_type": "stream",
     "text": [
      "Fibonacci sequence:\n",
      "0\n",
      "1\n",
      "1\n",
      "2\n",
      "3\n"
     ]
    }
   ],
   "source": [
    "#41. Program to display the Fibonacci sequence up to n-th term\n",
    "\n",
    "nterms = int(input(\"How many terms? \"))\n",
    "\n",
    "# first two terms\n",
    "n1, n2 = 0, 1\n",
    "count = 0\n",
    "\n",
    "# check if the number of terms is valid\n",
    "if nterms <= 0:\n",
    "   print(\"Please enter a positive integer\")\n",
    "# if there is only one term, return n1\n",
    "elif nterms == 1:\n",
    "   print(\"Fibonacci sequence upto\",nterms,\":\")\n",
    "   print(n1)\n",
    "# generate fibonacci sequence\n",
    "else:\n",
    "   print(\"Fibonacci sequence:\")\n",
    "   while count < nterms:\n",
    "       print(n1)\n",
    "       nth = n1 + n2\n",
    "       # update values\n",
    "       n1 = n2\n",
    "       n2 = nth\n",
    "       count += 1"
   ]
  },
  {
   "cell_type": "code",
   "execution_count": 27,
   "id": "b3f71b68-1061-45b2-9011-1ca1087e9748",
   "metadata": {},
   "outputs": [
    {
     "name": "stdin",
     "output_type": "stream",
     "text": [
      "some text :  boss baby\n"
     ]
    },
    {
     "name": "stdout",
     "output_type": "stream",
     "text": [
      "boss baby\n"
     ]
    }
   ],
   "source": [
    "#42.tup from user input\n",
    "a=input ('some text : ') \n",
    "print (a)\n"
   ]
  },
  {
   "cell_type": "code",
   "execution_count": 29,
   "id": "40100203-2454-4ebb-8117-d9bd09aea0d4",
   "metadata": {},
   "outputs": [
    {
     "name": "stdout",
     "output_type": "stream",
     "text": [
      "('good', 'look', 'feel', 'good')\n"
     ]
    }
   ],
   "source": [
    "#43. create a tuple\n",
    "t = ('look', 'good', 'feel', 'good')\n",
    "# convert the tuple to list\n",
    "ls = list(t)\n",
    "# swap the elements in the list using their index\n",
    "ls[0], ls[1] = ls[1], ls[0]\n",
    "# create a new tuple from the list elements\n",
    "new_t = tuple(ls)\n",
    "# print the new tuple\n",
    "print(new_t)"
   ]
  },
  {
   "cell_type": "code",
   "execution_count": 30,
   "id": "37c8252c-b091-4891-ac5f-cc07e930aab1",
   "metadata": {},
   "outputs": [
    {
     "name": "stdout",
     "output_type": "stream",
     "text": [
      "('k', 'e', 'e', 'g', 'f', 'd', 'a', 'z')\n"
     ]
    }
   ],
   "source": [
    "#44.reverse a tuple\n",
    "def Reverse(tuples):\n",
    "    new_tup = tuples[::-1]\n",
    "    return new_tup\n",
    "     \n",
    "# Driver Code\n",
    "tuples = ('z','a','d','f','g','e','e','k')\n",
    "print(Reverse(tuples))"
   ]
  },
  {
   "cell_type": "code",
   "execution_count": 34,
   "id": "be4949b6-90b3-4be9-a3ac-1ec8fe7e73fa",
   "metadata": {},
   "outputs": [
    {
     "name": "stdout",
     "output_type": "stream",
     "text": [
      "The original tuple 1 : (10, 4, 5, 6)\n",
      "The original tuple 2 : (5, 6, 7, 5)\n",
      "The exponentiated tuple : (100000, 4096, 78125, 7776)\n"
     ]
    }
   ],
   "source": [
    "#45.power of 2\n",
    "from operator import pow\n",
    "test_tup1 = (10, 4, 5, 6)\n",
    "test_tup2 = (5, 6, 7, 5)\n",
    "print(\"The original tuple 1 : \" + str(test_tup1))\n",
    "print(\"The original tuple 2 : \" + str(test_tup2))\n",
    "res = tuple(map(pow, test_tup1, test_tup2))\n",
    "print(\"The exponentiated tuple : \" + str(res))"
   ]
  },
  {
   "cell_type": "code",
   "execution_count": 3,
   "id": "d6fdc023-9986-41f6-8ebc-0fffb4316a65",
   "metadata": {},
   "outputs": [
    {
     "name": "stdin",
     "output_type": "stream",
     "text": [
      "Enter the string tuple =  ('air', 'water', 'land')\n"
     ]
    },
    {
     "name": "stdout",
     "output_type": "stream",
     "text": [
      "longest string in tuple =  water\n"
     ]
    }
   ],
   "source": [
    "#46.longest\n",
    "tup = eval(input(\"Enter the string tuple = \"))\n",
    "long = tup [ 0 ]\n",
    "for i in tup :\n",
    "    if len(i) > len( long ) :\n",
    "        long = i\n",
    "print(\"longest string in tuple = \",long)\n"
   ]
  },
  {
   "cell_type": "code",
   "execution_count": 2,
   "id": "49f4095a-2597-48cd-8668-a7b8697ce3d8",
   "metadata": {},
   "outputs": [
    {
     "name": "stdin",
     "output_type": "stream",
     "text": [
      "Enter the string tuple =  ('LEXI', 'VENKY', 'GOWY', 'VISHAKA')\n"
     ]
    },
    {
     "name": "stdout",
     "output_type": "stream",
     "text": [
      "Smallest string in tuple =  LEXI\n"
     ]
    }
   ],
   "source": [
    "#47. smallest \n",
    "tup = eval(input(\"Enter the string tuple = \"))\n",
    "short = tup [ 0 ]\n",
    "for i in tup :\n",
    "    if len(i) < len( short ) :\n",
    "        short = i\n",
    "print(\"Smallest string in tuple = \",short)\n"
   ]
  },
  {
   "cell_type": "code",
   "execution_count": 7,
   "id": "37169493-e5a9-4029-8b84-c9d427fc95c6",
   "metadata": {},
   "outputs": [
    {
     "name": "stdin",
     "output_type": "stream",
     "text": [
      "Please Enter n: 12\n"
     ]
    },
    {
     "name": "stdout",
     "output_type": "stream",
     "text": [
      "78.0\n"
     ]
    }
   ],
   "source": [
    "#48.triangular number\n",
    "n=int(input(\"Please Enter n:\"))\n",
    "y1=((n**2)+n)/(2)   \n",
    "print (y1)"
   ]
  },
  {
   "cell_type": "code",
   "execution_count": 9,
   "id": "c141c555-c73d-4396-a6f2-9582e18dd4c0",
   "metadata": {},
   "outputs": [
    {
     "name": "stdout",
     "output_type": "stream",
     "text": [
      "True\n"
     ]
    }
   ],
   "source": [
    "#49.tuple contains another tuple as subsequences\n",
    "tuple_A = (1,2,3,4)\n",
    "tuple_B = (1,3,5,4,2,6)\n",
    "if set(tuple_A).issubset(tuple_B):\n",
    "    print(True)\n",
    "else:\n",
    "    print (False)"
   ]
  },
  {
   "cell_type": "code",
   "execution_count": 9,
   "id": "d6700db1-b2aa-4c93-a894-76f2926ecf4b",
   "metadata": {},
   "outputs": [
    {
     "name": "stdout",
     "output_type": "stream",
     "text": [
      "(1, 1, 0, 0)\n",
      "(1, 0, 1, 0)\n",
      "(1, 0, 0, 1)\n",
      "(1, 0, 0, 0)\n",
      "(0, 1, 1, 0)\n",
      "(0, 1, 0, 1)\n",
      "(0, 1, 0, 0)\n",
      "(0, 0, 1, 1)\n",
      "(0, 0, 1, 0)\n",
      "(0, 0, 0, 1)\n",
      "(0, 0, 0, 0)\n"
     ]
    }
   ],
   "source": [
    "#50.\n",
    "def generate(Tuple, n):\n",
    "    if len(Tuple) == n:\n",
    "        print (Tuple)\n",
    "    else:   \n",
    "        if Tuple.count(1) >= n / 2:     \n",
    "            generate(Tuple + (0, ), n) \n",
    "        else:\n",
    "            generate(Tuple + (1, ), n)\n",
    "            generate(Tuple + (0, ), n)\n",
    "\n",
    "if __name__ == '__main__':      \n",
    "    n = 4\n",
    "    generate((), n)"
   ]
  },
  {
   "cell_type": "markdown",
   "id": "c699488e-55f5-4b11-bf5b-fef1f66608ac",
   "metadata": {},
   "source": [
    "# set based problem\n"
   ]
  },
  {
   "cell_type": "code",
   "execution_count": 11,
   "id": "9399a3d8-8d73-410e-9b70-14161021dfab",
   "metadata": {},
   "outputs": [],
   "source": [
    "#1.set with integer 1 to 5\n",
    "s={1,2,3,4,5}"
   ]
  },
  {
   "cell_type": "code",
   "execution_count": 19,
   "id": "01300f6a-452d-40f6-bc03-df619a83c70a",
   "metadata": {},
   "outputs": [
    {
     "name": "stdout",
     "output_type": "stream",
     "text": [
      "{2, 3, 5, 7, 11}\n"
     ]
    }
   ],
   "source": [
    "#2.add element\n",
    "numbers = {2, 3, 5, 7}\n",
    "numbers.add(11)\n",
    "print(numbers)"
   ]
  },
  {
   "cell_type": "code",
   "execution_count": 20,
   "id": "11896d0b-2e86-4473-8122-5b0744e4c508",
   "metadata": {},
   "outputs": [
    {
     "name": "stdout",
     "output_type": "stream",
     "text": [
      "{'Java', 'Python'}\n"
     ]
    }
   ],
   "source": [
    "#3.remove element\n",
    "languages = {'Python', 'Java', 'English'}\n",
    "languages.remove('English')\n",
    "print(languages)"
   ]
  },
  {
   "cell_type": "code",
   "execution_count": 25,
   "id": "4bfe66dc-176f-4f07-a97d-1b6fd8dfd7e3",
   "metadata": {},
   "outputs": [
    {
     "name": "stdout",
     "output_type": "stream",
     "text": [
      "Yes, 'apple' is in this set\n"
     ]
    }
   ],
   "source": [
    "#4.element exist in set\n",
    "fruit = {\"apple\", \"banana\", \"cherry\"}\n",
    "\n",
    "if \"apple\" in fruit:\n",
    "\n",
    "     print(\"Yes, 'apple' is in this set\")\n"
   ]
  },
  {
   "cell_type": "code",
   "execution_count": 1,
   "id": "c080acbb-8f85-4ed0-a369-277aaae95565",
   "metadata": {},
   "outputs": [
    {
     "name": "stdout",
     "output_type": "stream",
     "text": [
      "The length of set is: 3\n"
     ]
    }
   ],
   "source": [
    "#5.length of set\n",
    "  \n",
    "set1 = set()  \n",
    "set1.add(8) \n",
    "set1.add(9) \n",
    "set1.add((6, 7)) \n",
    "  \n",
    "print(\"The length of set is:\", len(set1))"
   ]
  },
  {
   "cell_type": "code",
   "execution_count": 2,
   "id": "c2372696-91ea-44dd-b9f9-99a7a167c86b",
   "metadata": {},
   "outputs": [
    {
     "name": "stdout",
     "output_type": "stream",
     "text": [
      "set()\n"
     ]
    }
   ],
   "source": [
    "#6.clear all element\n",
    "s = {2, 3, 5, 7}\n",
    "s.clear()\n",
    "print(s)"
   ]
  },
  {
   "cell_type": "code",
   "execution_count": 9,
   "id": "aaa0cafe-238d-4cbc-9a85-d5c3ed87c22d",
   "metadata": {},
   "outputs": [
    {
     "name": "stdout",
     "output_type": "stream",
     "text": [
      "Even Set Items =  {1, 2, 3, 4, 5, 6, 7, 8, 9, 10}\n",
      "\n",
      "The Even Numbers in this evSet Set are:\n",
      "2  4  6  8  10  "
     ]
    }
   ],
   "source": [
    "#7.set of even numbers\n",
    "evSet = {1,2,3,4,5,6,7,8,9,10}\n",
    "print(\"Even Set Items = \", evSet)\n",
    "\n",
    "print(\"\\nThe Even Numbers in this evSet Set are:\")\n",
    "for val in evSet:\n",
    "    if(val % 2 == 0):\n",
    "        print(val, end = \"  \")"
   ]
  },
  {
   "cell_type": "code",
   "execution_count": 10,
   "id": "f8b1f30d-49f0-45e9-b298-31d749a55fc1",
   "metadata": {},
   "outputs": [
    {
     "name": "stdout",
     "output_type": "stream",
     "text": [
      "Odd Set Items =  {1, 2, 3, 4, 5, 6, 7, 8, 9, 10}\n",
      "\n",
      "The Odd Numbers in this oddSet Set are:\n",
      "1  3  5  7  9  "
     ]
    }
   ],
   "source": [
    "#8.odd numbers\n",
    "oddSet = {1,2,3,4,5,6,7,8,9,10}\n",
    "print(\"Odd Set Items = \", oddSet)\n",
    "\n",
    "print(\"\\nThe Odd Numbers in this oddSet Set are:\")\n",
    "for odval in oddSet:\n",
    "    if(odval % 2 != 0):\n",
    "        print(odval, end = \"  \")"
   ]
  },
  {
   "cell_type": "code",
   "execution_count": 12,
   "id": "83dda086-4c2d-41a3-a2e3-75f7cf12b578",
   "metadata": {},
   "outputs": [
    {
     "name": "stdout",
     "output_type": "stream",
     "text": [
      "Items in x =  {'b', 'c', 'd', 'a'}\n",
      "Items in y =  {'g', 'e', 'f', 'h'}\n",
      "Items in z =  {'g', 'b', 'c', 'f', 'a', 'e', 'd', 'h'}\n"
     ]
    }
   ],
   "source": [
    "#9.union of two sets\n",
    "x = {'a', 'b', 'c', 'd'}\n",
    "y = {'e', 'f', 'g', 'h'}\n",
    " \n",
    "print('Items in x = ', x)\n",
    "print('Items in y = ', y)\n",
    " \n",
    "z = x.union(y)\n",
    " \n",
    "print('Items in z = ', z)"
   ]
  },
  {
   "cell_type": "code",
   "execution_count": 13,
   "id": "52f0b045-fa8e-46c9-9512-9bcaa956825c",
   "metadata": {},
   "outputs": [
    {
     "name": "stdout",
     "output_type": "stream",
     "text": [
      "{2, 3}\n"
     ]
    }
   ],
   "source": [
    "#10.intersection\n",
    "A = {1, 2, 3}\n",
    "B = {2, 3, 4}\n",
    "AnB = A.intersection(B)\n",
    "print(AnB)"
   ]
  },
  {
   "cell_type": "code",
   "execution_count": 14,
   "id": "168a4b4f-7fe3-42ff-a5b5-330373c24ee4",
   "metadata": {},
   "outputs": [
    {
     "name": "stdout",
     "output_type": "stream",
     "text": [
      "{1, 9}\n"
     ]
    }
   ],
   "source": [
    "#11.find difference\n",
    "A = {1, 3, 5, 7, 9}\n",
    "B = {2, 3, 5, 7, 11}\n",
    "print(A.difference(B))"
   ]
  },
  {
   "cell_type": "code",
   "execution_count": 15,
   "id": "f9abba43-63df-49b2-b70a-32997ff365d7",
   "metadata": {},
   "outputs": [
    {
     "name": "stdout",
     "output_type": "stream",
     "text": [
      "True\n"
     ]
    }
   ],
   "source": [
    "#12.subset of another set\n",
    "numbers = {1, 2, 3, 4, 5}\n",
    "scores = {1, 2, 3}\n",
    "\n",
    "print(scores.issubset(numbers))"
   ]
  },
  {
   "cell_type": "code",
   "execution_count": 17,
   "id": "3121861d-846d-499a-bf11-36a420a44ccf",
   "metadata": {},
   "outputs": [
    {
     "name": "stdout",
     "output_type": "stream",
     "text": [
      "True\n",
      "False\n",
      "True\n"
     ]
    }
   ],
   "source": [
    "#13.issuperset\n",
    "A = {1, 2, 3, 4, 5}\n",
    "B = {1, 2, 3}\n",
    "C = {1, 2, 3}\n",
    "print(A.issuperset(B))\n",
    "print(B.issuperset(A))\n",
    "print(C.issuperset(B))\n"
   ]
  },
  {
   "cell_type": "code",
   "execution_count": 21,
   "id": "123424d1-b59a-4487-bc5f-408e716290f8",
   "metadata": {},
   "outputs": [
    {
     "data": {
      "text/plain": [
       "{'C:\\\\', 'D:\\\\', 'E:\\\\'}"
      ]
     },
     "execution_count": 21,
     "metadata": {},
     "output_type": "execute_result"
    }
   ],
   "source": [
    "#14.create set from list\n",
    "list1=[\"C:\\\\\",\"D:\\\\\",\"E:\\\\\",\"C:\\\\\"]\n",
    "set1=set(list1)\n",
    "set1\n",
    "set(['E:\\\\', 'D:\\\\', 'C:\\\\'])"
   ]
  },
  {
   "cell_type": "code",
   "execution_count": 24,
   "id": "6384f8c0-5f54-4d91-833a-5103d673b1d7",
   "metadata": {},
   "outputs": [
    {
     "name": "stdout",
     "output_type": "stream",
     "text": [
      "[1, 2, 3]\n"
     ]
    }
   ],
   "source": [
    "#15. convert a set into a list\n",
    "def convert(set):\n",
    "    return sorted(set)\n",
    "my_set = {1, 2, 3}\n",
    " \n",
    "s = set(my_set)\n",
    "print(convert(s))"
   ]
  },
  {
   "cell_type": "code",
   "execution_count": 38,
   "id": "883fc2b8-cbae-4df5-ab0c-4c85dbe37140",
   "metadata": {},
   "outputs": [
    {
     "name": "stdout",
     "output_type": "stream",
     "text": [
      "{'cherry', 'apple'}\n"
     ]
    }
   ],
   "source": [
    "#16.remove element\n",
    "fruits = {\"apple\", \"banana\", \"cherry\"}\n",
    "\n",
    "fruits.remove(\"banana\")\n",
    "\n",
    "print(fruits)"
   ]
  },
  {
   "cell_type": "code",
   "execution_count": 39,
   "id": "5919fb04-775f-4127-82e9-6ec2c6b76139",
   "metadata": {},
   "outputs": [
    {
     "name": "stdout",
     "output_type": "stream",
     "text": [
      "{9, 1}\n"
     ]
    }
   ],
   "source": [
    "#17.pop element\n",
    "s1 = {9, 1, 0}\n",
    "s1.pop()\n",
    "print(s1)"
   ]
  },
  {
   "cell_type": "code",
   "execution_count": 42,
   "id": "7a9d7b1f-be6a-4791-84ab-e5313606cd22",
   "metadata": {},
   "outputs": [
    {
     "name": "stdout",
     "output_type": "stream",
     "text": [
      "a : {23, 8, 56, 45, 78}\n",
      "b : {42, 26, 55, 87}\n",
      "Z : {46, 87}\n",
      "\n",
      "Two given sets have no Elements in Common..\n",
      "\n",
      "Compare A and B :  True\n",
      "Compare B and Z :  False\n",
      "Compare A and Z :  True\n"
     ]
    }
   ],
   "source": [
    "#18.check sets are common\n",
    "a = {23,45,78,8,56}\n",
    "b = {42,55,26,87}\n",
    "z = {87,46}\n",
    "print(\"a :\",a)\n",
    "print(\"b :\",b)\n",
    "print(\"Z :\",z)\n",
    "print(\"\\nTwo given sets have no Elements in Common..\")\n",
    "print(\"\\nCompare A and B : \",a.isdisjoint(b))\n",
    "print(\"Compare B and Z : \",b.isdisjoint(z))\n",
    "print(\"Compare A and Z : \",z.isdisjoint(a))"
   ]
  },
  {
   "cell_type": "code",
   "execution_count": 43,
   "id": "b916ba37-5271-48a7-931a-dc2772c0a06a",
   "metadata": {},
   "outputs": [
    {
     "name": "stdout",
     "output_type": "stream",
     "text": [
      "{1, 2, 5, 6, 7, 9}\n"
     ]
    }
   ],
   "source": [
    "#19.find symmetric difference between two set\n",
    "set_A = {1, 2, 3, 4, 5}\n",
    "set_B = {6, 7, 3, 9, 4}\n",
    "print(set_A.symmetric_difference(set_B))"
   ]
  },
  {
   "cell_type": "code",
   "execution_count": 44,
   "id": "1ab79740-d6a7-4263-8a57-e92a91668977",
   "metadata": {},
   "outputs": [
    {
     "name": "stdout",
     "output_type": "stream",
     "text": [
      "{'cherry', 'banana', 'google', 'microsoft', 'apple'}\n"
     ]
    }
   ],
   "source": [
    "#20.update\n",
    "x = {\"apple\", \"banana\", \"cherry\"}\n",
    "y = {\"google\", \"microsoft\", \"apple\"}\n",
    "\n",
    "x.update(y)\n",
    "\n",
    "print(x)"
   ]
  },
  {
   "cell_type": "code",
   "execution_count": 48,
   "id": "57c8389f-344b-49bc-8aad-a9d3f4486717",
   "metadata": {},
   "outputs": [
    {
     "name": "stdout",
     "output_type": "stream",
     "text": [
      "1\n",
      "2\n",
      "3\n",
      "5\n"
     ]
    }
   ],
   "source": [
    "#21.prime num\n",
    "for num in range(1,6):\n",
    "    prime = True\n",
    "    for i in range(2,num):\n",
    "        if (num%i==0):\n",
    "            prime = False\n",
    "    if prime:\n",
    "        print (num)"
   ]
  },
  {
   "cell_type": "code",
   "execution_count": 49,
   "id": "426a0e8d-7b87-4966-8068-2a547a5e454f",
   "metadata": {},
   "outputs": [
    {
     "name": "stdout",
     "output_type": "stream",
     "text": [
      "True\n"
     ]
    }
   ],
   "source": [
    "#22.identical\n",
    "first_set = {'one', 'two', 'three'}\n",
    "second_set = {'one', 'two', 'three'}\n",
    "\n",
    "print(first_set == second_set)"
   ]
  },
  {
   "cell_type": "code",
   "execution_count": 20,
   "id": "2659e4c6-e154-48ce-8321-11db712a857e",
   "metadata": {},
   "outputs": [
    {
     "name": "stdout",
     "output_type": "stream",
     "text": [
      "True\n",
      "False\n"
     ]
    }
   ],
   "source": [
    "#23.frozen set\n",
    "animals = frozenset([\"cat\", \"dog\", \"lion\"])\n",
    "print(\"cat\" in animals)\n",
    "print(\"elephant\" in animals)\n"
   ]
  },
  {
   "cell_type": "code",
   "execution_count": 52,
   "id": "319152b3-3d5e-4168-acff-dca82a3ef50d",
   "metadata": {},
   "outputs": [
    {
     "name": "stdout",
     "output_type": "stream",
     "text": [
      "Yes\n"
     ]
    }
   ],
   "source": [
    "#24.disjoint\n",
    "def areDisjoint(set1, set2, m, n):\n",
    "    set1.sort()\n",
    "    set2.sort()\n",
    "    i = 0; j = 0\n",
    "    while (i < m and j < n):\n",
    "         \n",
    "        if (set1[i] < set2[j]):\n",
    "            i += 1\n",
    "        elif (set2[j] < set1[i]):\n",
    "            j += 1\n",
    "        else: \n",
    "            return False\n",
    "    return True\n",
    " \n",
    " \n",
    "# Driver Code\n",
    "set1 = [12, 34, 11, 9, 3]\n",
    "set2 = [7, 2, 1, 5]\n",
    "m = len(set1)\n",
    "n = len(set2)\n",
    " \n",
    "print(\"Yes\") if areDisjoint(set1, set2, m, n) else print(\"No\")\n",
    " "
   ]
  },
  {
   "cell_type": "code",
   "execution_count": 9,
   "id": "6899bb16-2176-4fc0-94e6-06a781fe3c53",
   "metadata": {},
   "outputs": [
    {
     "name": "stdout",
     "output_type": "stream",
     "text": [
      "1\n",
      "4\n",
      "9\n",
      "16\n"
     ]
    }
   ],
   "source": [
    "#25.set of square numbers\n",
    "s={1,2,3,4}\n",
    "for a in range(1, 6):\n",
    "    print(a ** 2)"
   ]
  },
  {
   "cell_type": "code",
   "execution_count": 14,
   "id": "73787b72-be1e-49e3-9a86-8c1eb98288ff",
   "metadata": {},
   "outputs": [
    {
     "name": "stdout",
     "output_type": "stream",
     "text": [
      "Original set --> {64, 1, 4, 36, 100, 9, 16, 49, 81, 25} \n",
      "\n",
      "and the Even Numbers--> {64, 100, 4, 36, 16}\n"
     ]
    }
   ],
   "source": [
    "#26.even numbers\n",
    "a = {1, 4, 9, 16, 25, 36, 49, 64, 81, 100}\n",
    "\n",
    "b = {i for i in a if i % 2 == 0}\n",
    "\n",
    "print(\"Original set -->\", a,\"\\n\")\n",
    "print(\"and the Even Numbers-->\", b)"
   ]
  },
  {
   "cell_type": "code",
   "execution_count": 18,
   "id": "706beb5f-eefb-4379-b9d7-fe69701a02f0",
   "metadata": {},
   "outputs": [
    {
     "name": "stdout",
     "output_type": "stream",
     "text": [
      "{2, 4, 6, 8, 10}\n"
     ]
    }
   ],
   "source": [
    "#27.multiply set by 2\n",
    "setnumber = {1, 2, 3, 4, 5}\n",
    "newset = {item*2 for item in setnumber}\n",
    "print(newset)\n"
   ]
  },
  {
   "cell_type": "code",
   "execution_count": 22,
   "id": "a6067c8f-2d34-4e23-a69d-e1f773ee3e54",
   "metadata": {},
   "outputs": [
    {
     "name": "stdout",
     "output_type": "stream",
     "text": [
      "An element from the set: Hello\n"
     ]
    }
   ],
   "source": [
    "#28.set of random number\n",
    "import random\n",
    "set = (1, \"Hello\", 38, 44.45, \"Apples\", False) \n",
    "  \n",
    "print(\"An element from the set:\" , random.choice(set))"
   ]
  },
  {
   "cell_type": "code",
   "execution_count": 23,
   "id": "5e0522f9-b20a-48fc-8965-0569258af35b",
   "metadata": {},
   "outputs": [
    {
     "name": "stdout",
     "output_type": "stream",
     "text": [
      "set is empty\n"
     ]
    }
   ],
   "source": [
    "#29.check if set is empty\n",
    "MySet = {}\n",
    "if not MySet:\n",
    "    print (\"set is empty\")\n",
    "else:\n",
    "    print (\"set is not empty\")"
   ]
  },
  {
   "cell_type": "code",
   "execution_count": 10,
   "id": "8c48d010-14b2-441a-8853-4d756faea97a",
   "metadata": {},
   "outputs": [
    {
     "name": "stdout",
     "output_type": "stream",
     "text": [
      "{frozenset({1, 2}), frozenset({1, 2, 5}), frozenset({1, 2, 3, 4}), frozenset(), frozenset({1, 2, 3, 6}), frozenset({5})}\n"
     ]
    }
   ],
   "source": [
    "#30.nested set\n",
    "t = [[], [1, 2], [5], [1, 2, 5], [1, 2, 3, 4], [1, 2, 3, 6]]\n",
    "t1 = set(frozenset(i) for i in t)\n",
    "print(t1)"
   ]
  },
  {
   "cell_type": "code",
   "execution_count": 13,
   "id": "504f443d-b0fe-4c69-bf46-1ef61ca0da17",
   "metadata": {},
   "outputs": [
    {
     "name": "stdout",
     "output_type": "stream",
     "text": [
      "{41, 10, 54, 26}\n"
     ]
    }
   ],
   "source": [
    "#31.remove element using discard method\n",
    "def Remove(sets):\n",
    "    sets.discard(20)\n",
    "    print (sets)\n",
    "     \n",
    "# Driver Code\n",
    "sets = set([10, 20, 26, 41, 54, 20])\n",
    "Remove(sets)"
   ]
  },
  {
   "cell_type": "code",
   "execution_count": 15,
   "id": "c5d1d30e-1ec3-45ab-896e-9201b5212e29",
   "metadata": {},
   "outputs": [
    {
     "data": {
      "text/plain": [
       "True"
      ]
     },
     "execution_count": 15,
     "metadata": {},
     "output_type": "execute_result"
    }
   ],
   "source": [
    "#32.compare two sets\n",
    "{1, 2} < {1, 2, 3}  \n",
    "{1, 2} < {1, 3}  \n",
    "{1, 2} < {1, 2}  \n",
    "{1, 2} <= {1, 2} "
   ]
  },
  {
   "cell_type": "code",
   "execution_count": 19,
   "id": "ab17a59c-9fb0-4113-9a4b-e2fcbca5e4a2",
   "metadata": {},
   "outputs": [
    {
     "name": "stdout",
     "output_type": "stream",
     "text": [
      "Initially\n",
      "The datatype of string : <class 'str'>\n",
      "Contents of string : lexi\n",
      "\n",
      "After the conversion\n",
      "The datatype of string : <class 'set'>\n",
      "Contents of string :  {'i', 'l', 'x', 'e'}\n"
     ]
    }
   ],
   "source": [
    "#33.create set from string\n",
    "string = \"lexi\"\n",
    "print(\"Initially\")\n",
    "print(\"The datatype of string : \" + str(type(string)))\n",
    "print(\"Contents of string : \" + string)\n",
    "string = set(string)\n",
    "print(\"\\nAfter the conversion\")\n",
    "print(\"The datatype of string : \" + str(type(string)))\n",
    "print(\"Contents of string : \", string)"
   ]
  },
  {
   "cell_type": "code",
   "execution_count": 1,
   "id": "3bcdceed-65b9-4d6a-a146-d281b0b117f4",
   "metadata": {},
   "outputs": [
    {
     "data": {
      "text/plain": [
       "{1, 2}"
      ]
     },
     "execution_count": 1,
     "metadata": {},
     "output_type": "execute_result"
    }
   ],
   "source": [
    "#34.set of str to set of int\n",
    "set1= { '1', '2' }\n",
    "set2 = set(map(int, set1))\n",
    "set2\n",
    "set([1, 2])"
   ]
  },
  {
   "cell_type": "code",
   "execution_count": 2,
   "id": "d554cf71-2070-4fd6-b43e-67a6e0e6855a",
   "metadata": {},
   "outputs": [
    {
     "name": "stdout",
     "output_type": "stream",
     "text": [
      "Type of variable before conversion :  <class 'int'>\n",
      "Type After conversion :  <class 'str'>\n"
     ]
    }
   ],
   "source": [
    "#35.int to str\n",
    "num = 10\n",
    " \n",
    "# check  and print type of num variable\n",
    "print(\"Type of variable before conversion : \", type(num))\n",
    " \n",
    "# convert the num into string\n",
    "converted_num = str(num)\n",
    " \n",
    "# check  and print type converted_num variable\n",
    "print(\"Type After conversion : \",type(converted_num))"
   ]
  },
  {
   "cell_type": "code",
   "execution_count": 3,
   "id": "d33ca97a-3cf2-4443-989d-65c35ce54116",
   "metadata": {},
   "outputs": [
    {
     "name": "stdout",
     "output_type": "stream",
     "text": [
      "<class 'set'>   {'b', 'd', 'a', 'c', 'e'}\n",
      "<class 'tuple'>   ('b', 'd', 'a', 'c', 'e')\n"
     ]
    }
   ],
   "source": [
    "#36.from tup\n",
    "s = {'a', 'b', 'c', 'd', 'e'}\n",
    "print(type(s), \" \", s)\n",
    "t = tuple(s)\n",
    "print(type(t), \" \", t)"
   ]
  },
  {
   "cell_type": "code",
   "execution_count": 4,
   "id": "db7af16c-47b9-4c2c-b5d7-b1cef287598d",
   "metadata": {},
   "outputs": [
    {
     "name": "stdout",
     "output_type": "stream",
     "text": [
      "('b', 'd', 'a', 'c', 'e')\n"
     ]
    }
   ],
   "source": [
    "#37. set to tup\n",
    "s = {'a', 'b', 'c', 'd', 'e'}\n",
    "x=[i for i in s]\n",
    "print(tuple(x))"
   ]
  },
  {
   "cell_type": "code",
   "execution_count": 5,
   "id": "a205eafa-62b4-4405-bffa-ab7fb11058ec",
   "metadata": {},
   "outputs": [
    {
     "name": "stdout",
     "output_type": "stream",
     "text": [
      "65\n"
     ]
    }
   ],
   "source": [
    "#38.maximum\n",
    "# Python code to get the maximum element from a set\n",
    "def MAX(sets):\n",
    "    return (max(sets))\n",
    "     \n",
    "# Driver Code\n",
    "sets = set([8, 16, 24, 1, 25, 3, 10, 65, 55])\n",
    "print(MAX(sets))"
   ]
  },
  {
   "cell_type": "code",
   "execution_count": 6,
   "id": "a6ebb121-53a8-4e34-84fd-7182eff747df",
   "metadata": {},
   "outputs": [
    {
     "name": "stdout",
     "output_type": "stream",
     "text": [
      "4\n"
     ]
    }
   ],
   "source": [
    "#39.minimum\n",
    "\n",
    "# Python code to get the minimum element from a set\n",
    "def MIN(sets):\n",
    "    return (min(sets))\n",
    "     \n",
    "# Driver Code\n",
    "sets = set([4, 12, 10, 9, 4, 13])\n",
    "print(MIN(sets))"
   ]
  },
  {
   "cell_type": "code",
   "execution_count": 7,
   "id": "5fb276a9-e1d4-416f-9ddd-5e802ccb1780",
   "metadata": {},
   "outputs": [
    {
     "name": "stdin",
     "output_type": "stream",
     "text": [
      "Enter space-separated words:  i have a beautiful girl baby\n"
     ]
    },
    {
     "name": "stdout",
     "output_type": "stream",
     "text": [
      "{'baby', 'a', 'i', 'beautiful', 'have', 'girl'}\n"
     ]
    }
   ],
   "source": [
    "#40.set fom user input\n",
    "import ast\n",
    "\n",
    "my_set = set(input('Enter space-separated words: ').split())\n",
    "\n",
    "print(my_set)\n"
   ]
  },
  {
   "cell_type": "code",
   "execution_count": 8,
   "id": "3899cad3-1d57-4265-8eec-8a7adbcc1b76",
   "metadata": {},
   "outputs": [
    {
     "name": "stdout",
     "output_type": "stream",
     "text": [
      "Non-empty intersection\n"
     ]
    }
   ],
   "source": [
    "#41.intersection of two sets are empty?\n",
    "set1 = set([1,2])\n",
    "set2 = set([2,3])\n",
    "if(set1 & set2):\n",
    "  print(\"Non-empty intersection\")\n",
    "else:\n",
    "  print(\"Empty intersection\")"
   ]
  },
  {
   "cell_type": "code",
   "execution_count": 15,
   "id": "20908967-462b-4420-83d3-8522dd251ca2",
   "metadata": {},
   "outputs": [
    {
     "name": "stdout",
     "output_type": "stream",
     "text": [
      "1 2 3 5 8 \n"
     ]
    }
   ],
   "source": [
    "#42.fibonacci numbers\n",
    "n = 5\n",
    "num1 = 0\n",
    "num2 = 1\n",
    "next_number = num2 \n",
    "count = 1\n",
    " \n",
    "while count <= n:\n",
    "    print(next_number, end=\" \")\n",
    "    count += 1\n",
    "    num1, num2 = num2, next_number\n",
    "    next_number = num1 + num2\n",
    "print()"
   ]
  },
  {
   "cell_type": "code",
   "execution_count": 16,
   "id": "6613d134-6fc0-467e-841f-bbaa99fec0a1",
   "metadata": {},
   "outputs": [
    {
     "name": "stdout",
     "output_type": "stream",
     "text": [
      "The original list is : [1, 5, 3, 6, 3, 5, 6, 1]\n",
      "The list after removing duplicates : [1, 3, 5, 6]\n"
     ]
    }
   ],
   "source": [
    "#43.remove duplicates from list using sets\n",
    "test_list = [1, 5, 3, 6, 3, 5, 6, 1]\n",
    "print (\"The original list is : \"\n",
    "        + str(test_list))\n",
    " \n",
    "# using set() to remove duplicated from list\n",
    "test_list = list(set(test_list))\n",
    " \n",
    "# printing list after removal\n",
    "# distorted ordering\n",
    "print (\"The list after removing duplicates : \"\n",
    "        + str(test_list))"
   ]
  },
  {
   "cell_type": "code",
   "execution_count": 18,
   "id": "e67fb891-ed39-4179-970d-f5eded95429a",
   "metadata": {},
   "outputs": [
    {
     "name": "stdout",
     "output_type": "stream",
     "text": [
      "Both sets are equal\n"
     ]
    }
   ],
   "source": [
    "#44.\n",
    "first_set = {'one', 'two', 'three'}\n",
    "second_set = {'one', 'two', 'three', 'four'}\n",
    "\n",
    "if len(first_set.difference(second_set)) == 0:\n",
    "    print('Both sets are equal')\n",
    "else:\n",
    "    print('Sets are not equal')"
   ]
  },
  {
   "cell_type": "code",
   "execution_count": 28,
   "id": "31da8b8c-1cc8-402e-aea7-4562c33e447d",
   "metadata": {},
   "outputs": [
    {
     "name": "stdout",
     "output_type": "stream",
     "text": [
      "2\n",
      "4\n",
      "8\n",
      "16\n"
     ]
    }
   ],
   "source": [
    "#45.\n",
    "powers = [1 for i in range(n)]\n",
    "for i in range(1, n):\n",
    "    powers[i] = powers[i - 1] * 2\n",
    "    print(powers[i])"
   ]
  },
  {
   "cell_type": "code",
   "execution_count": 31,
   "id": "6985493b-12ea-4fa2-a054-cfa5b1090f3a",
   "metadata": {},
   "outputs": [
    {
     "name": "stdout",
     "output_type": "stream",
     "text": [
      "{5}\n",
      "no common elements\n"
     ]
    }
   ],
   "source": [
    "#46.common element\n",
    "\n",
    "# function\n",
    "def common_member(a, b):   \n",
    "    a_set = set(a)\n",
    "    b_set = set(b)\n",
    "     \n",
    "    # check length\n",
    "    if len(a_set.intersection(b_set)) > 0:\n",
    "        return(a_set.intersection(b_set)) \n",
    "    else:\n",
    "        return(\"no common elements\")\n",
    "     \n",
    "  \n",
    "a = [1, 2, 3, 4, 5]\n",
    "b = [5, 6, 7, 8, 9]\n",
    "print(common_member(a, b))\n",
    "  \n",
    "a =[1, 2, 3, 4, 5]\n",
    "b =[6, 7, 8, 9]\n",
    "print(common_member(a, b))"
   ]
  },
  {
   "cell_type": "code",
   "execution_count": 33,
   "id": "6ec0608b-1e6b-448e-bbbf-c747a41b99a7",
   "metadata": {},
   "outputs": [
    {
     "name": "stdout",
     "output_type": "stream",
     "text": [
      "1 3 6 10 15 "
     ]
    }
   ],
   "source": [
    "#47.triangular num\n",
    "def triangular_series( n ):\n",
    "    j = 1\n",
    "    k = 1\n",
    "    for i in range(1, n + 1):\n",
    "        print(k, end = ' ')\n",
    "        j = j + 1 \n",
    "        k = k + j\n",
    "n = 5\n",
    "triangular_series(n)"
   ]
  },
  {
   "cell_type": "code",
   "execution_count": 35,
   "id": "4cb4caaa-120a-44b4-9ce7-1ba752ebb60c",
   "metadata": {},
   "outputs": [
    {
     "data": {
      "text/plain": [
       "True"
      ]
     },
     "execution_count": 35,
     "metadata": {},
     "output_type": "execute_result"
    }
   ],
   "source": [
    "#48.subset\n",
    "s = set([1,2,3])\n",
    "t = set([1,2])\n",
    "t.issubset(s)\n",
    "True\n",
    "s.issuperset(t)\n",
    "True"
   ]
  },
  {
   "cell_type": "code",
   "execution_count": 46,
   "id": "232c7711-1e6f-4b18-9e7b-dad70d8d1d6c",
   "metadata": {},
   "outputs": [
    {
     "name": "stdout",
     "output_type": "stream",
     "text": [
      "[[0 1 0 1]\n",
      " [0 1 0 1]\n",
      " [0 1 0 1]\n",
      " [0 1 0 1]]\n"
     ]
    }
   ],
   "source": [
    "#49.\n",
    "import numpy as np\n",
    "n = 4\n",
    "arr = ([0,1])\n",
    "print(np.tile(arr,(n,n//2)))"
   ]
  },
  {
   "cell_type": "code",
   "execution_count": 47,
   "id": "993a528f-b9e7-4f77-85c9-b4d09184d744",
   "metadata": {},
   "outputs": [
    {
     "name": "stdout",
     "output_type": "stream",
     "text": [
      "{1, 3, 5, 7, 9}\n"
     ]
    }
   ],
   "source": [
    "#50.merge multiple sets\n",
    "if __name__ == '__main__':\n",
    " \n",
    "    x = {1, 3}\n",
    "    y = {5}\n",
    "    z = {7, 9}\n",
    " \n",
    "    s = set().union(x).union(y).union(z)\n",
    " \n",
    "    print(s)      "
   ]
  },
  {
   "cell_type": "markdown",
   "id": "c19d4e89-36df-4082-ae06-36cbd75ce00e",
   "metadata": {},
   "source": [
    "#                                           THANK YOU\n"
   ]
  },
  {
   "cell_type": "code",
   "execution_count": null,
   "id": "c5e14b3d-8881-4fff-983b-0f6814e3c97b",
   "metadata": {},
   "outputs": [],
   "source": []
  }
 ],
 "metadata": {
  "kernelspec": {
   "display_name": "Python 3 (ipykernel)",
   "language": "python",
   "name": "python3"
  },
  "language_info": {
   "codemirror_mode": {
    "name": "ipython",
    "version": 3
   },
   "file_extension": ".py",
   "mimetype": "text/x-python",
   "name": "python",
   "nbconvert_exporter": "python",
   "pygments_lexer": "ipython3",
   "version": "3.10.8"
  }
 },
 "nbformat": 4,
 "nbformat_minor": 5
}
